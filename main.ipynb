{
 "cells": [
  {
   "cell_type": "markdown",
   "metadata": {},
   "source": [
    "# Vanishing"
   ]
  },
  {
   "cell_type": "markdown",
   "metadata": {},
   "source": [
    "This jupyter notebook computes some vanishing results for the coherent cohomology of the Siegel variety in positive characteristic. Let $ p \\geq 2$ be a prime number and $N \\geq 3$ an integer such that $p \\nmid N$. Let $X$ be a smooth and projective toroidal compactification of the Siegel variety of dimension $\\frac{g(g+1)}{2}$ over $\\mathbb{F}_p$. We denote by $D$ the border of the toroidal compactification. If $\\lambda$ is a character of $\\text{GL}_g$, then we denote by $\\nabla(\\lambda)$ the costandard automorphic vector bundle of highest weight $\\lambda$. We implement an algorithm which computes characters $\\lambda$ of $\\text{GL}_g$ such that the coherent cohomology $H^i(X,\\nabla(\\lambda)(-D))$ vanishes.  "
   ]
  },
  {
   "cell_type": "code",
   "execution_count": 2,
   "metadata": {},
   "outputs": [],
   "source": [
    "from tqdm import tqdm\n",
    "import matplotlib.pyplot as plt\n",
    "\n",
    "class SiegelVariety:\n",
    "    def __init__(self,g,p):\n",
    "        self.g = g\n",
    "        self.p = p\n",
    "        self.d = g*(g+1)/2\n",
    "        \n",
    "        if g < 2:\n",
    "            raise ValueError('The genus g must be greater than 1')\n",
    "        elif p not in Primes():\n",
    "            raise ValueError('The number ' + str(p) + ' is not prime')\n",
    "        elif p < self.g**2:\n",
    "            raise ValueError('The prime ' + str(p) + ' is lower than the dimension of the flag bundle ' + str(self.g**2))\n",
    "        \n",
    "        self.L = RootSystem(\"A\"+str(self.g-1)).ambient_space() #Ag-1\n",
    "        self.LG = RootSystem(\"C\"+str(self.g)).ambient_space() #Cg\n",
    "        self.W = WeylGroup(self.L)\n",
    "        self.WG = WeylGroup(self.LG)\n",
    "\n",
    "        A = WeylCharacterRing(['A',self.g-1])\n",
    "        C = WeylCharacterRing(['C',self.g]) \n",
    "        self.phi_L = A.positive_roots()\n",
    "        self.phi_G = C.positive_roots()\n",
    "        self.Delta_L = A.simple_roots()\n",
    "        self.Delta_G = C.simple_roots()\n",
    "\n",
    "        #Cotangent bundle of the Siegel variety\n",
    "        OmegaWeight = []\n",
    "        for i in range(self.g):\n",
    "            if i == 0:\n",
    "                OmegaWeight.append(2)\n",
    "            else:\n",
    "                OmegaWeight.append(0)\n",
    "        Omega1 = A(OmegaWeight)\n",
    "        \n",
    "        #Exterior product of differentials over the Siegel variety\n",
    "        self.nu = []\n",
    "        for i in range(1,self.d+1):\n",
    "            temp = []\n",
    "            Omega = Omega1.exterior_power(i)\n",
    "            for x in Omega.weight_multiplicities():\n",
    "                temp.append(x)\n",
    "            self.nu.append(temp)\n",
    "        \n",
    "        self.mu = []\n",
    "        for nu_j in self.nu:\n",
    "            temp = []\n",
    "            for char in nu_j:\n",
    "                temp.append(self.L(self.changeConvention(char)))\n",
    "            self.mu.append(temp)\n",
    "            \n",
    "        #Known vanishing results - in degrees i>k for k = 0 to d-1\n",
    "        self.Cvan = []\n",
    "        for i in range(self.d):\n",
    "            self.Cvan.append([])\n",
    "    \n",
    "    #Change root convention\n",
    "    def changeConvention(self,char):\n",
    "        res = []\n",
    "        for i in range(self.g-1,-1,-1):\n",
    "            res.append(-char[i])\n",
    "        return res\n",
    "    \n",
    "    #Test equality of characters\n",
    "    def equality(self,el1,el2):\n",
    "        for i in range(self.g):\n",
    "            if el1[i] != el2[i]:\n",
    "                return False\n",
    "        return True\n",
    "    \n",
    "    #Create a list of subsets of given cardinal\n",
    "    def powerset_length(self,s,n):\n",
    "        res = []\n",
    "        x = len(s)\n",
    "        for i in range(1 << x):\n",
    "            temp = []\n",
    "            temp = [s[j] for j in range(x) if (i & (1 << j))]\n",
    "            if len(temp) == n:\n",
    "                res.append(temp)\n",
    "        return res\n",
    "        \n",
    "    #Test if a list contains an element\n",
    "    def contains(self,lst,el):\n",
    "        for x in lst:\n",
    "            if self.equality(x,el):\n",
    "                return True\n",
    "        return False\n",
    "    \n",
    "    #Test our vanishing result\n",
    "    def vanishes(self,k, char):\n",
    "        return self.contains(self.Cvan[k],char)\n",
    "    \n",
    "    #Construct relevant set of roots\n",
    "    def buildIprime(self,T):\n",
    "        Iprime = []\n",
    "        for i in range(1,len(T)+1):\n",
    "            if T[i-1] != 0:\n",
    "                Iprime.append(self.Delta_L[i])\n",
    "        return Iprime\n",
    "    \n",
    "    def buildRoots(self,Iprime):\n",
    "        phi_Iprime = []\n",
    "        phiLIprime = []\n",
    "        for i in range(1 << len(Iprime)):\n",
    "            temp = sum(Iprime[j] for j in range(len(Iprime)) if (i & (1 << j)))\n",
    "            if temp != 0:\n",
    "                tempList = []\n",
    "                for k in range(self.g):\n",
    "                    tempList.append(temp[k])\n",
    "                if self.LG(tempList) in self.phi_G:\n",
    "                    phi_Iprime.append(temp)\n",
    "        for x in self.phi_L:\n",
    "            if x not in phi_Iprime:\n",
    "                phiLIprime.append(x)\n",
    "        return phi_Iprime,phiLIprime\n",
    "    \n",
    "    #Check L_Iprime-dominance of characters\n",
    "    def LIprimedominant(self,Iprime,phiLIprime,char):\n",
    "        for alpha in phiLIprime:\n",
    "            value = 0\n",
    "            for j in range(self.g):\n",
    "                value += char[j]*alpha[j]\n",
    "            if value < 0:\n",
    "                return False\n",
    "        for alpha in Iprime:\n",
    "            value = 0\n",
    "            for j in range(self.g):\n",
    "                value += char[j]*alpha[j]\n",
    "            if value != 0:\n",
    "                return False\n",
    "        return True\n",
    "    \n",
    "    #Check L-dominance\n",
    "    def Ldominant(self,char):\n",
    "        for alpha in self.Delta_L:\n",
    "            value = 0\n",
    "            for j in range(self.g):\n",
    "                value += char[j]*alpha[j]\n",
    "            if value < 0:\n",
    "                return False\n",
    "        return True\n",
    "    \n",
    "    #Construction of a set of dominant weights between kmin and kmax \n",
    "    def buildWeights(self,kmin,kmax):\n",
    "        kvalues = []\n",
    "        kvalue = []\n",
    "        for i in range(self.g):\n",
    "            kvalue.append(kmin)\n",
    "        stop = False\n",
    "        stopGlobal = False\n",
    "        icurrent = 0\n",
    "        while not stopGlobal:\n",
    "            stop = False\n",
    "            kvaluetemp = kvalue.copy()\n",
    "            kvalues.append(kvaluetemp)\n",
    "            while not stop:\n",
    "                if kvalue[icurrent] < kmax:\n",
    "                    kvalue[icurrent] += 1\n",
    "                    icurrent = 0\n",
    "                    stop = True\n",
    "                elif icurrent < self.g-1:\n",
    "                    found = False\n",
    "                    nextValue = 0\n",
    "                    i = icurrent+1\n",
    "                    while not found and i < self.g:\n",
    "                        if kvalue[i] < kmax:\n",
    "                            nextValue = kvalue[i]+1\n",
    "                            found = True\n",
    "                        i+=1\n",
    "                    if found:\n",
    "                        kvalue[icurrent] = nextValue\n",
    "                        icurrent += 1\n",
    "                    else:\n",
    "                        stop = True\n",
    "                        stopGlobal = True\n",
    "                else:\n",
    "                    stop = True\n",
    "                    stopGlobal = True\n",
    "        return kvalues\n",
    "    \n",
    "    #If it returns True, it means that the automorphic line bundle of weight char\n",
    "    #is D-ample on the flag bundle of type Iprime\n",
    "    def ample(self,Iprime,char):\n",
    "        for w in self.WG:\n",
    "            for alpha in self.phi_G:\n",
    "                alpha = alpha.associated_coroot()\n",
    "                v = w.action(alpha)\n",
    "                num = 0\n",
    "                for j in range(self.g):\n",
    "                    num += char[j]*v[j]\n",
    "                den = 0\n",
    "                for j in range(self.g):\n",
    "                    den += char[j]*alpha[j]\n",
    "                if den != 0:\n",
    "                    if max(num/den,-num/den) > self.p-1:\n",
    "                        return False\n",
    "        for alpha in self.phi_G:\n",
    "            if not self.contains(self.phi_L,alpha):\n",
    "                alpha = alpha.associated_coroot()\n",
    "                value = 0\n",
    "                for j in range(self.g):\n",
    "                    value += char[j]*alpha[j]\n",
    "                if value >= 0:\n",
    "                    return False\n",
    "        for alpha in self.Delta_L:\n",
    "            if alpha not in Iprime:\n",
    "                value = 0\n",
    "                for j in range(self.g):\n",
    "                    value += char[j]*alpha[j]\n",
    "                if value <= 0:\n",
    "                    return False\n",
    "        return True\n",
    "\n",
    "    #Check a partial degeneration of a spectral sequence\n",
    "    def degeneration(self,Iprime,phiLIprime,tworhoIprime,e,char):\n",
    "        lamb = self.L(char)\n",
    "        lambp = lamb-self.mu[self.d-e-1][0]\n",
    "        r = len(phiLIprime)\n",
    "        if self.LIprimedominant(Iprime,phiLIprime,lambp) and self.ample(Iprime,lambp+tworhoIprime):\n",
    "            for k in range(e+1):\n",
    "                set_of_M = self.powerset_length(phiLIprime,r-k)\n",
    "                for M in set_of_M:\n",
    "                    if len(M) != 0:\n",
    "                        s_M = sum(M)\n",
    "                        for j in range(0,len(self.mu[self.d-e+k-1])):\n",
    "                            if k!=0 or j != 0:\n",
    "                                if e+1 < self.d:\n",
    "                                    value = lambp - s_M +tworhoIprime+self.mu[self.d-e+k-1][j]\n",
    "                                    if self.Ldominant(value) and value not in self.Cvan[e+1]:\n",
    "                                        return False\n",
    "            return True\n",
    "        else:\n",
    "            return False\n",
    "        \n",
    "    #Compute a set of vanishing results from the flag bundle of type Iprime\n",
    "    #for degrees > e and between kmin and kmax\n",
    "    def compute(self,T,e,kmin,kmax):\n",
    "        res = False\n",
    "        Iprime = self.buildIprime(T)\n",
    "        phi_Iprime, phiLIprime = self.buildRoots(Iprime)\n",
    "        tworhoIprime = sum(x for x in phiLIprime)\n",
    "        kvalues = self.buildWeights(kmin,kmax)\n",
    "        timer = tqdm(kvalues)\n",
    "        for char in timer:\n",
    "            if not self.contains(self.Cvan[e],self.L(char)):\n",
    "                if self.degeneration(Iprime,phiLIprime,tworhoIprime,e,char):\n",
    "                    res = True\n",
    "                    for k in range(e,self.d):\n",
    "                        self.Cvan[k].append(self.L(char))\n",
    "        return res\n",
    "    \n",
    "    #Compute a set of vanishing results between kmin and kmax\n",
    "    def computeAll(self,kmin,kmax):\n",
    "        out = False\n",
    "        Iprimes = []\n",
    "        for i in range(1 << self.g-1):\n",
    "            T = [0 for i in range(self.g-1)]\n",
    "            for j in range(self.g-1):\n",
    "                if (i & (1 << j)):\n",
    "                    T[j] = 1\n",
    "            Iprimes.append(T)\n",
    "        step = 1\n",
    "        max_step = len(Iprimes)*(self.d)\n",
    "        for T in Iprimes:\n",
    "            for e in range(self.d):\n",
    "                print('Step '+str(step)+'/'+str(max_step)+' : e = '+str(e)+', Iprime = '+str(T))\n",
    "                res = self.compute(T,e,kmin,kmax)\n",
    "                out = out or res \n",
    "                step = step +1\n",
    "        return out\n",
    "        \n",
    "    #Technical conversion of the set of vanishing results\n",
    "    def convert(self):\n",
    "        res = []\n",
    "        added = []\n",
    "        for c in self.Cvan:\n",
    "            a = []\n",
    "            for x in c:\n",
    "                if x not in added:\n",
    "                    b = []\n",
    "                    for i in range(self.g):\n",
    "                        b.append(x[i])\n",
    "                    a.append(b)\n",
    "                    added.append(x)\n",
    "            res.append(a)\n",
    "        return res\n",
    "    \n",
    "    #Save vanishing results in a file\n",
    "    def save(self):\n",
    "        res = self.convert()\n",
    "        for k in range(self.d):\n",
    "            filepath = 'g'+str(self.g)+'p'+str(self.p)+'_'+str(k)+'.txt'\n",
    "            with open('save/'+filepath,'w') as f:\n",
    "                for item in res[k]:\n",
    "                    for x in item:\n",
    "                        f.write(\"%s \" % x)\n",
    "                    f.write(\"\\n\")\n",
    "                print('Results saved in '+filepath)\n",
    "    \n",
    "    #Load vanishing results from a file\n",
    "    def load(self):\n",
    "        for k in range(self.d):\n",
    "            filepath = 'g'+str(self.g)+'p'+str(self.p)+'_'+str(k)+'.txt'\n",
    "            with open('save/'+filepath,'r') as f:\n",
    "                data = f.read()\n",
    "                list_data = data.split('\\n')\n",
    "                chars = []\n",
    "                for x in list_data:       \n",
    "                    y = x.split(' ')\n",
    "                    y.pop()\n",
    "                    char = [int(z) for z in y]\n",
    "                    if len(char) == self.g:\n",
    "                        chars.append(char)\n",
    "                for i in range(k,self.d):\n",
    "                    for char in chars:\n",
    "                        if not self.vanishes(i,char):\n",
    "                            self.Cvan[i].append(char)\n",
    "                print('Results loaded from '+filepath)\n",
    "                \n",
    "    #Get statistics about the results\n",
    "    def statistics(self):\n",
    "        res = self.convert()\n",
    "        for i in range(self.d):\n",
    "            print('H^* is concentrated in degrees [0:' + str(i) + '] for ' + str(len(res[i])) + ' characters')\n",
    "            \n",
    "    #Get psmall weights for Sp_2g twisted by -w0\n",
    "    def psmall(self,kmax):\n",
    "        kmin = 0\n",
    "        kvalues = self.buildWeights(kmin,kmax)\n",
    "        rho = 1/2*sum(self.phi_G)\n",
    "        res = []\n",
    "        for char in kvalues:\n",
    "            is_psmall = True\n",
    "            for alpha in self.phi_G:\n",
    "                prod = 0\n",
    "                for j in range(self.g):\n",
    "                    prod += (char[j]+rho[j])*alpha[j]\n",
    "                if max(prod,-prod) > self.p:\n",
    "                    is_psmall = False\n",
    "                    break\n",
    "            if is_psmall:\n",
    "                res += [tuple(self.changeConvention(char))]\n",
    "        filepath = 'g'+str(self.g)+'p'+str(self.p)+'_psmall'+'.txt'\n",
    "        with open('save/'+filepath,'w') as f:\n",
    "                for char in res:\n",
    "                    for x in char:\n",
    "                        f.write(\"%s \" % x)\n",
    "                    f.write(\"\\n\")\n",
    "        print('p-small weights saved in '+filepath)\n",
    "        print(res)"
   ]
  },
  {
   "cell_type": "markdown",
   "metadata": {},
   "source": [
    "# Basic use examples"
   ]
  },
  {
   "cell_type": "markdown",
   "metadata": {},
   "source": [
    "We create the Siegel threefold $X$ over $\\mathbb{F}_7$."
   ]
  },
  {
   "cell_type": "code",
   "execution_count": 3,
   "metadata": {},
   "outputs": [],
   "source": [
    "X = SiegelVariety(g = 2, p = 7)"
   ]
  },
  {
   "cell_type": "markdown",
   "metadata": {},
   "source": [
    "If the next line returns True, it means that the automorphic line bundle $\\mathcal{L}_{(-2,-8)}$ is $D$-ample on the complete flag variety $Y$ over $X$."
   ]
  },
  {
   "cell_type": "code",
   "execution_count": 4,
   "metadata": {},
   "outputs": [
    {
     "data": {
      "text/plain": [
       "True"
      ]
     },
     "execution_count": 4,
     "metadata": {},
     "output_type": "execute_result"
    }
   ],
   "source": [
    "X.ample([],[-2,-8])"
   ]
  },
  {
   "cell_type": "markdown",
   "metadata": {},
   "source": [
    "The next line compute vanishing results for characters $\\lambda = (k_1,k_2)$ with $ -50 \\leq k_2 \\leq k_1 \\leq 0$ using the function $g_{I_0,e}$ in the case where $I_0 = \\emptyset$ and $e = 0$. The results are registered in the list $C_{\\text{van}}$. It returns True if the algorithm has found new vanishing results."
   ]
  },
  {
   "cell_type": "code",
   "execution_count": 5,
   "metadata": {},
   "outputs": [
    {
     "name": "stderr",
     "output_type": "stream",
     "text": [
      "100%|██████████| 1326/1326 [00:01<00:00, 944.61it/s]\n"
     ]
    },
    {
     "data": {
      "text/plain": [
       "True"
      ]
     },
     "execution_count": 5,
     "metadata": {},
     "output_type": "execute_result"
    }
   ],
   "source": [
    "X.compute([], e = 0, kmin = -50, kmax = 0)"
   ]
  },
  {
   "cell_type": "markdown",
   "metadata": {},
   "source": [
    "The next line runs the compute method for each $I_0 \\subset I$ and $0 \\leq e \\leq d$. We only need to specify the range of characters $\\lambda = (k_1,k_2)$ we want to consider. It returns True if the algorithm has found new vanishing results. You may want to run this command several times until it returns False."
   ]
  },
  {
   "cell_type": "code",
   "execution_count": 6,
   "metadata": {},
   "outputs": [
    {
     "name": "stdout",
     "output_type": "stream",
     "text": [
      "Step 1/6 : e = 0, Iprime = [0]\n"
     ]
    },
    {
     "name": "stderr",
     "output_type": "stream",
     "text": [
      "100%|██████████| 1326/1326 [00:00<00:00, 2175.40it/s]\n"
     ]
    },
    {
     "name": "stdout",
     "output_type": "stream",
     "text": [
      "Step 2/6 : e = 1, Iprime = [0]\n"
     ]
    },
    {
     "name": "stderr",
     "output_type": "stream",
     "text": [
      "100%|██████████| 1326/1326 [00:00<00:00, 2173.92it/s]\n"
     ]
    },
    {
     "name": "stdout",
     "output_type": "stream",
     "text": [
      "Step 3/6 : e = 2, Iprime = [0]\n"
     ]
    },
    {
     "name": "stderr",
     "output_type": "stream",
     "text": [
      "100%|██████████| 1326/1326 [00:00<00:00, 2344.30it/s]\n"
     ]
    },
    {
     "name": "stdout",
     "output_type": "stream",
     "text": [
      "Step 4/6 : e = 0, Iprime = [1]\n"
     ]
    },
    {
     "name": "stderr",
     "output_type": "stream",
     "text": [
      "100%|██████████| 1326/1326 [00:00<00:00, 4607.75it/s]\n"
     ]
    },
    {
     "name": "stdout",
     "output_type": "stream",
     "text": [
      "Step 5/6 : e = 1, Iprime = [1]\n"
     ]
    },
    {
     "name": "stderr",
     "output_type": "stream",
     "text": [
      "100%|██████████| 1326/1326 [00:00<00:00, 4322.07it/s]\n"
     ]
    },
    {
     "name": "stdout",
     "output_type": "stream",
     "text": [
      "Step 6/6 : e = 2, Iprime = [1]\n"
     ]
    },
    {
     "name": "stderr",
     "output_type": "stream",
     "text": [
      "100%|██████████| 1326/1326 [00:00<00:00, 4862.52it/s]\n"
     ]
    },
    {
     "data": {
      "text/plain": [
       "True"
      ]
     },
     "execution_count": 6,
     "metadata": {},
     "output_type": "execute_result"
    }
   ],
   "source": [
    "X.computeAll(-50,0)"
   ]
  },
  {
   "cell_type": "markdown",
   "metadata": {},
   "source": [
    "The next line returns True if we know that $H^i(X,\\nabla(-4,-6)(-D)) = 0$ for all $i>1$."
   ]
  },
  {
   "cell_type": "code",
   "execution_count": 7,
   "metadata": {},
   "outputs": [
    {
     "data": {
      "text/plain": [
       "True"
      ]
     },
     "execution_count": 7,
     "metadata": {},
     "output_type": "execute_result"
    }
   ],
   "source": [
    "X.vanishes(1,(-4,-6))"
   ]
  },
  {
   "cell_type": "markdown",
   "metadata": {},
   "source": [
    "If the next line returns False, it means we don't know if $H^i(X,\\nabla(-4,-6)(-D)) = 0$ for all $i>0$."
   ]
  },
  {
   "cell_type": "code",
   "execution_count": 8,
   "metadata": {},
   "outputs": [
    {
     "data": {
      "text/plain": [
       "False"
      ]
     },
     "execution_count": 8,
     "metadata": {},
     "output_type": "execute_result"
    }
   ],
   "source": [
    "X.vanishes(0,(-4,-6))"
   ]
  },
  {
   "cell_type": "code",
   "execution_count": 9,
   "metadata": {},
   "outputs": [
    {
     "name": "stdout",
     "output_type": "stream",
     "text": [
      "H^* is concentrated in degrees [0:0] for 691 characters\n",
      "H^* is concentrated in degrees [0:1] for 88 characters\n",
      "H^* is concentrated in degrees [0:2] for 77 characters\n"
     ]
    }
   ],
   "source": [
    "X.statistics()"
   ]
  },
  {
   "cell_type": "markdown",
   "metadata": {},
   "source": [
    "# Save/Load results"
   ]
  },
  {
   "cell_type": "code",
   "execution_count": 11,
   "metadata": {},
   "outputs": [
    {
     "name": "stdout",
     "output_type": "stream",
     "text": [
      "Results saved in g2p7_0.txt\n",
      "Results saved in g2p7_1.txt\n",
      "Results saved in g2p7_2.txt\n"
     ]
    }
   ],
   "source": [
    "X.save()"
   ]
  },
  {
   "cell_type": "code",
   "execution_count": 10,
   "metadata": {},
   "outputs": [
    {
     "name": "stdout",
     "output_type": "stream",
     "text": [
      "Results loaded from g2p7_0.txt\n",
      "Results loaded from g2p7_1.txt\n",
      "Results loaded from g2p7_2.txt\n"
     ]
    }
   ],
   "source": [
    "X.load()"
   ]
  },
  {
   "cell_type": "markdown",
   "metadata": {},
   "source": [
    "# Other computations"
   ]
  },
  {
   "cell_type": "markdown",
   "metadata": {},
   "source": [
    "We compute and save vanishing results for different values of $p$ when $g = 2$"
   ]
  },
  {
   "cell_type": "code",
   "execution_count": 20,
   "metadata": {},
   "outputs": [
    {
     "name": "stdout",
     "output_type": "stream",
     "text": [
      "Step 1/6 : e = 0, Iprime = [0]\n"
     ]
    },
    {
     "name": "stderr",
     "output_type": "stream",
     "text": [
      "100%|██████████| 1326/1326 [00:01<00:00, 1202.76it/s]\n"
     ]
    },
    {
     "name": "stdout",
     "output_type": "stream",
     "text": [
      "Step 2/6 : e = 1, Iprime = [0]\n"
     ]
    },
    {
     "name": "stderr",
     "output_type": "stream",
     "text": [
      "100%|██████████| 1326/1326 [00:00<00:00, 1343.47it/s]\n"
     ]
    },
    {
     "name": "stdout",
     "output_type": "stream",
     "text": [
      "Step 3/6 : e = 2, Iprime = [0]\n"
     ]
    },
    {
     "name": "stderr",
     "output_type": "stream",
     "text": [
      "100%|██████████| 1326/1326 [00:00<00:00, 1372.53it/s]\n"
     ]
    },
    {
     "name": "stdout",
     "output_type": "stream",
     "text": [
      "Step 4/6 : e = 0, Iprime = [1]\n"
     ]
    },
    {
     "name": "stderr",
     "output_type": "stream",
     "text": [
      "100%|██████████| 1326/1326 [00:00<00:00, 12987.16it/s]\n"
     ]
    },
    {
     "name": "stdout",
     "output_type": "stream",
     "text": [
      "Step 5/6 : e = 1, Iprime = [1]\n"
     ]
    },
    {
     "name": "stderr",
     "output_type": "stream",
     "text": [
      "100%|██████████| 1326/1326 [00:00<00:00, 14297.84it/s]\n"
     ]
    },
    {
     "name": "stdout",
     "output_type": "stream",
     "text": [
      "Step 6/6 : e = 2, Iprime = [1]\n"
     ]
    },
    {
     "name": "stderr",
     "output_type": "stream",
     "text": [
      "100%|██████████| 1326/1326 [00:00<00:00, 15776.51it/s]\n"
     ]
    },
    {
     "name": "stdout",
     "output_type": "stream",
     "text": [
      "Step 1/6 : e = 0, Iprime = [0]\n"
     ]
    },
    {
     "name": "stderr",
     "output_type": "stream",
     "text": [
      "100%|██████████| 1326/1326 [00:01<00:00, 1247.64it/s]\n"
     ]
    },
    {
     "name": "stdout",
     "output_type": "stream",
     "text": [
      "Step 2/6 : e = 1, Iprime = [0]\n"
     ]
    },
    {
     "name": "stderr",
     "output_type": "stream",
     "text": [
      "100%|██████████| 1326/1326 [00:01<00:00, 1260.38it/s]\n"
     ]
    },
    {
     "name": "stdout",
     "output_type": "stream",
     "text": [
      "Step 3/6 : e = 2, Iprime = [0]\n"
     ]
    },
    {
     "name": "stderr",
     "output_type": "stream",
     "text": [
      "100%|██████████| 1326/1326 [00:00<00:00, 1344.22it/s]\n"
     ]
    },
    {
     "name": "stdout",
     "output_type": "stream",
     "text": [
      "Step 4/6 : e = 0, Iprime = [1]\n"
     ]
    },
    {
     "name": "stderr",
     "output_type": "stream",
     "text": [
      "100%|██████████| 1326/1326 [00:00<00:00, 12942.52it/s]\n"
     ]
    },
    {
     "name": "stdout",
     "output_type": "stream",
     "text": [
      "Step 5/6 : e = 1, Iprime = [1]\n"
     ]
    },
    {
     "name": "stderr",
     "output_type": "stream",
     "text": [
      "100%|██████████| 1326/1326 [00:00<00:00, 14209.15it/s]\n"
     ]
    },
    {
     "name": "stdout",
     "output_type": "stream",
     "text": [
      "Step 6/6 : e = 2, Iprime = [1]\n"
     ]
    },
    {
     "name": "stderr",
     "output_type": "stream",
     "text": [
      "100%|██████████| 1326/1326 [00:00<00:00, 15785.87it/s]\n"
     ]
    },
    {
     "name": "stdout",
     "output_type": "stream",
     "text": [
      "Step 1/6 : e = 0, Iprime = [0]\n"
     ]
    },
    {
     "name": "stderr",
     "output_type": "stream",
     "text": [
      "100%|██████████| 1326/1326 [00:01<00:00, 1209.52it/s]\n"
     ]
    },
    {
     "name": "stdout",
     "output_type": "stream",
     "text": [
      "Step 2/6 : e = 1, Iprime = [0]\n"
     ]
    },
    {
     "name": "stderr",
     "output_type": "stream",
     "text": [
      "100%|██████████| 1326/1326 [00:01<00:00, 1266.19it/s]\n"
     ]
    },
    {
     "name": "stdout",
     "output_type": "stream",
     "text": [
      "Step 3/6 : e = 2, Iprime = [0]\n"
     ]
    },
    {
     "name": "stderr",
     "output_type": "stream",
     "text": [
      "100%|██████████| 1326/1326 [00:01<00:00, 1242.79it/s]\n"
     ]
    },
    {
     "name": "stdout",
     "output_type": "stream",
     "text": [
      "Step 4/6 : e = 0, Iprime = [1]\n"
     ]
    },
    {
     "name": "stderr",
     "output_type": "stream",
     "text": [
      "100%|██████████| 1326/1326 [00:00<00:00, 12781.84it/s]\n"
     ]
    },
    {
     "name": "stdout",
     "output_type": "stream",
     "text": [
      "Step 5/6 : e = 1, Iprime = [1]\n"
     ]
    },
    {
     "name": "stderr",
     "output_type": "stream",
     "text": [
      "100%|██████████| 1326/1326 [00:00<00:00, 13924.48it/s]\n"
     ]
    },
    {
     "name": "stdout",
     "output_type": "stream",
     "text": [
      "Step 6/6 : e = 2, Iprime = [1]\n"
     ]
    },
    {
     "name": "stderr",
     "output_type": "stream",
     "text": [
      "100%|██████████| 1326/1326 [00:00<00:00, 15524.79it/s]\n"
     ]
    },
    {
     "name": "stdout",
     "output_type": "stream",
     "text": [
      "Results saved in g2p5_0.txt\n",
      "Results saved in g2p5_1.txt\n",
      "Results saved in g2p5_2.txt\n",
      "Step 1/6 : e = 0, Iprime = [0]\n"
     ]
    },
    {
     "name": "stderr",
     "output_type": "stream",
     "text": [
      "100%|██████████| 1326/1326 [00:01<00:00, 897.25it/s]\n"
     ]
    },
    {
     "name": "stdout",
     "output_type": "stream",
     "text": [
      "Step 2/6 : e = 1, Iprime = [0]\n"
     ]
    },
    {
     "name": "stderr",
     "output_type": "stream",
     "text": [
      "100%|██████████| 1326/1326 [00:01<00:00, 1025.56it/s]\n"
     ]
    },
    {
     "name": "stdout",
     "output_type": "stream",
     "text": [
      "Step 3/6 : e = 2, Iprime = [0]\n"
     ]
    },
    {
     "name": "stderr",
     "output_type": "stream",
     "text": [
      "100%|██████████| 1326/1326 [00:01<00:00, 952.47it/s]\n"
     ]
    },
    {
     "name": "stdout",
     "output_type": "stream",
     "text": [
      "Step 4/6 : e = 0, Iprime = [1]\n"
     ]
    },
    {
     "name": "stderr",
     "output_type": "stream",
     "text": [
      "100%|██████████| 1326/1326 [00:00<00:00, 7361.36it/s]\n"
     ]
    },
    {
     "name": "stdout",
     "output_type": "stream",
     "text": [
      "Step 5/6 : e = 1, Iprime = [1]\n"
     ]
    },
    {
     "name": "stderr",
     "output_type": "stream",
     "text": [
      "100%|██████████| 1326/1326 [00:00<00:00, 10942.03it/s]\n"
     ]
    },
    {
     "name": "stdout",
     "output_type": "stream",
     "text": [
      "Step 6/6 : e = 2, Iprime = [1]\n"
     ]
    },
    {
     "name": "stderr",
     "output_type": "stream",
     "text": [
      "100%|██████████| 1326/1326 [00:00<00:00, 9952.93it/s] \n"
     ]
    },
    {
     "name": "stdout",
     "output_type": "stream",
     "text": [
      "Step 1/6 : e = 0, Iprime = [0]\n"
     ]
    },
    {
     "name": "stderr",
     "output_type": "stream",
     "text": [
      "100%|██████████| 1326/1326 [00:01<00:00, 811.62it/s]\n"
     ]
    },
    {
     "name": "stdout",
     "output_type": "stream",
     "text": [
      "Step 2/6 : e = 1, Iprime = [0]\n"
     ]
    },
    {
     "name": "stderr",
     "output_type": "stream",
     "text": [
      "100%|██████████| 1326/1326 [00:01<00:00, 910.85it/s]\n"
     ]
    },
    {
     "name": "stdout",
     "output_type": "stream",
     "text": [
      "Step 3/6 : e = 2, Iprime = [0]\n"
     ]
    },
    {
     "name": "stderr",
     "output_type": "stream",
     "text": [
      "100%|██████████| 1326/1326 [00:01<00:00, 1014.88it/s]\n"
     ]
    },
    {
     "name": "stdout",
     "output_type": "stream",
     "text": [
      "Step 4/6 : e = 0, Iprime = [1]\n"
     ]
    },
    {
     "name": "stderr",
     "output_type": "stream",
     "text": [
      "100%|██████████| 1326/1326 [00:00<00:00, 10650.33it/s]\n"
     ]
    },
    {
     "name": "stdout",
     "output_type": "stream",
     "text": [
      "Step 5/6 : e = 1, Iprime = [1]\n"
     ]
    },
    {
     "name": "stderr",
     "output_type": "stream",
     "text": [
      "100%|██████████| 1326/1326 [00:00<00:00, 12037.70it/s]\n"
     ]
    },
    {
     "name": "stdout",
     "output_type": "stream",
     "text": [
      "Step 6/6 : e = 2, Iprime = [1]\n"
     ]
    },
    {
     "name": "stderr",
     "output_type": "stream",
     "text": [
      "100%|██████████| 1326/1326 [00:00<00:00, 13883.19it/s]\n"
     ]
    },
    {
     "name": "stdout",
     "output_type": "stream",
     "text": [
      "Step 1/6 : e = 0, Iprime = [0]\n"
     ]
    },
    {
     "name": "stderr",
     "output_type": "stream",
     "text": [
      "100%|██████████| 1326/1326 [00:01<00:00, 890.31it/s]\n"
     ]
    },
    {
     "name": "stdout",
     "output_type": "stream",
     "text": [
      "Step 2/6 : e = 1, Iprime = [0]\n"
     ]
    },
    {
     "name": "stderr",
     "output_type": "stream",
     "text": [
      "100%|██████████| 1326/1326 [00:01<00:00, 956.14it/s]\n"
     ]
    },
    {
     "name": "stdout",
     "output_type": "stream",
     "text": [
      "Step 3/6 : e = 2, Iprime = [0]\n"
     ]
    },
    {
     "name": "stderr",
     "output_type": "stream",
     "text": [
      "100%|██████████| 1326/1326 [00:01<00:00, 1067.25it/s]\n"
     ]
    },
    {
     "name": "stdout",
     "output_type": "stream",
     "text": [
      "Step 4/6 : e = 0, Iprime = [1]\n"
     ]
    },
    {
     "name": "stderr",
     "output_type": "stream",
     "text": [
      "100%|██████████| 1326/1326 [00:00<00:00, 11780.38it/s]\n"
     ]
    },
    {
     "name": "stdout",
     "output_type": "stream",
     "text": [
      "Step 5/6 : e = 1, Iprime = [1]\n"
     ]
    },
    {
     "name": "stderr",
     "output_type": "stream",
     "text": [
      "100%|██████████| 1326/1326 [00:00<00:00, 13304.96it/s]\n"
     ]
    },
    {
     "name": "stdout",
     "output_type": "stream",
     "text": [
      "Step 6/6 : e = 2, Iprime = [1]\n"
     ]
    },
    {
     "name": "stderr",
     "output_type": "stream",
     "text": [
      "100%|██████████| 1326/1326 [00:00<00:00, 14974.78it/s]\n"
     ]
    },
    {
     "name": "stdout",
     "output_type": "stream",
     "text": [
      "Results saved in g2p7_0.txt\n",
      "Results saved in g2p7_1.txt\n",
      "Results saved in g2p7_2.txt\n",
      "Step 1/6 : e = 0, Iprime = [0]\n"
     ]
    },
    {
     "name": "stderr",
     "output_type": "stream",
     "text": [
      "100%|██████████| 1326/1326 [00:01<00:00, 726.84it/s]\n"
     ]
    },
    {
     "name": "stdout",
     "output_type": "stream",
     "text": [
      "Step 2/6 : e = 1, Iprime = [0]\n"
     ]
    },
    {
     "name": "stderr",
     "output_type": "stream",
     "text": [
      "100%|██████████| 1326/1326 [00:01<00:00, 801.21it/s]\n"
     ]
    },
    {
     "name": "stdout",
     "output_type": "stream",
     "text": [
      "Step 3/6 : e = 2, Iprime = [0]\n"
     ]
    },
    {
     "name": "stderr",
     "output_type": "stream",
     "text": [
      "100%|██████████| 1326/1326 [00:01<00:00, 878.43it/s]\n"
     ]
    },
    {
     "name": "stdout",
     "output_type": "stream",
     "text": [
      "Step 4/6 : e = 0, Iprime = [1]\n"
     ]
    },
    {
     "name": "stderr",
     "output_type": "stream",
     "text": [
      "100%|██████████| 1326/1326 [00:00<00:00, 10365.61it/s]\n"
     ]
    },
    {
     "name": "stdout",
     "output_type": "stream",
     "text": [
      "Step 5/6 : e = 1, Iprime = [1]\n"
     ]
    },
    {
     "name": "stderr",
     "output_type": "stream",
     "text": [
      "100%|██████████| 1326/1326 [00:00<00:00, 12787.16it/s]\n"
     ]
    },
    {
     "name": "stdout",
     "output_type": "stream",
     "text": [
      "Step 6/6 : e = 2, Iprime = [1]\n"
     ]
    },
    {
     "name": "stderr",
     "output_type": "stream",
     "text": [
      "100%|██████████| 1326/1326 [00:00<00:00, 14485.15it/s]\n"
     ]
    },
    {
     "name": "stdout",
     "output_type": "stream",
     "text": [
      "Step 1/6 : e = 0, Iprime = [0]\n"
     ]
    },
    {
     "name": "stderr",
     "output_type": "stream",
     "text": [
      "100%|██████████| 1326/1326 [00:01<00:00, 732.81it/s]\n"
     ]
    },
    {
     "name": "stdout",
     "output_type": "stream",
     "text": [
      "Step 2/6 : e = 1, Iprime = [0]\n"
     ]
    },
    {
     "name": "stderr",
     "output_type": "stream",
     "text": [
      "100%|██████████| 1326/1326 [00:01<00:00, 801.25it/s]\n"
     ]
    },
    {
     "name": "stdout",
     "output_type": "stream",
     "text": [
      "Step 3/6 : e = 2, Iprime = [0]\n"
     ]
    },
    {
     "name": "stderr",
     "output_type": "stream",
     "text": [
      "100%|██████████| 1326/1326 [00:01<00:00, 882.37it/s]\n"
     ]
    },
    {
     "name": "stdout",
     "output_type": "stream",
     "text": [
      "Step 4/6 : e = 0, Iprime = [1]\n"
     ]
    },
    {
     "name": "stderr",
     "output_type": "stream",
     "text": [
      "100%|██████████| 1326/1326 [00:00<00:00, 10582.69it/s]\n"
     ]
    },
    {
     "name": "stdout",
     "output_type": "stream",
     "text": [
      "Step 5/6 : e = 1, Iprime = [1]\n"
     ]
    },
    {
     "name": "stderr",
     "output_type": "stream",
     "text": [
      "100%|██████████| 1326/1326 [00:00<00:00, 12489.64it/s]\n"
     ]
    },
    {
     "name": "stdout",
     "output_type": "stream",
     "text": [
      "Step 6/6 : e = 2, Iprime = [1]\n"
     ]
    },
    {
     "name": "stderr",
     "output_type": "stream",
     "text": [
      "100%|██████████| 1326/1326 [00:00<00:00, 14808.20it/s]\n"
     ]
    },
    {
     "name": "stdout",
     "output_type": "stream",
     "text": [
      "Step 1/6 : e = 0, Iprime = [0]\n"
     ]
    },
    {
     "name": "stderr",
     "output_type": "stream",
     "text": [
      "100%|██████████| 1326/1326 [00:01<00:00, 735.99it/s]\n"
     ]
    },
    {
     "name": "stdout",
     "output_type": "stream",
     "text": [
      "Step 2/6 : e = 1, Iprime = [0]\n"
     ]
    },
    {
     "name": "stderr",
     "output_type": "stream",
     "text": [
      "100%|██████████| 1326/1326 [00:01<00:00, 776.45it/s]\n"
     ]
    },
    {
     "name": "stdout",
     "output_type": "stream",
     "text": [
      "Step 3/6 : e = 2, Iprime = [0]\n"
     ]
    },
    {
     "name": "stderr",
     "output_type": "stream",
     "text": [
      "100%|██████████| 1326/1326 [00:01<00:00, 887.72it/s]\n"
     ]
    },
    {
     "name": "stdout",
     "output_type": "stream",
     "text": [
      "Step 4/6 : e = 0, Iprime = [1]\n"
     ]
    },
    {
     "name": "stderr",
     "output_type": "stream",
     "text": [
      "100%|██████████| 1326/1326 [00:00<00:00, 11182.52it/s]\n"
     ]
    },
    {
     "name": "stdout",
     "output_type": "stream",
     "text": [
      "Step 5/6 : e = 1, Iprime = [1]\n"
     ]
    },
    {
     "name": "stderr",
     "output_type": "stream",
     "text": [
      "100%|██████████| 1326/1326 [00:00<00:00, 12850.86it/s]\n"
     ]
    },
    {
     "name": "stdout",
     "output_type": "stream",
     "text": [
      "Step 6/6 : e = 2, Iprime = [1]\n"
     ]
    },
    {
     "name": "stderr",
     "output_type": "stream",
     "text": [
      "100%|██████████| 1326/1326 [00:00<00:00, 15088.08it/s]\n"
     ]
    },
    {
     "name": "stdout",
     "output_type": "stream",
     "text": [
      "Results saved in g2p11_0.txt\n",
      "Results saved in g2p11_1.txt\n",
      "Results saved in g2p11_2.txt\n",
      "Step 1/6 : e = 0, Iprime = [0]\n"
     ]
    },
    {
     "name": "stderr",
     "output_type": "stream",
     "text": [
      "100%|██████████| 1326/1326 [00:02<00:00, 593.98it/s]\n"
     ]
    },
    {
     "name": "stdout",
     "output_type": "stream",
     "text": [
      "Step 2/6 : e = 1, Iprime = [0]\n"
     ]
    },
    {
     "name": "stderr",
     "output_type": "stream",
     "text": [
      "100%|██████████| 1326/1326 [00:02<00:00, 644.37it/s]\n"
     ]
    },
    {
     "name": "stdout",
     "output_type": "stream",
     "text": [
      "Step 3/6 : e = 2, Iprime = [0]\n"
     ]
    },
    {
     "name": "stderr",
     "output_type": "stream",
     "text": [
      "100%|██████████| 1326/1326 [00:01<00:00, 720.97it/s]\n"
     ]
    },
    {
     "name": "stdout",
     "output_type": "stream",
     "text": [
      "Step 4/6 : e = 0, Iprime = [1]\n"
     ]
    },
    {
     "name": "stderr",
     "output_type": "stream",
     "text": [
      "100%|██████████| 1326/1326 [00:00<00:00, 10189.02it/s]\n"
     ]
    },
    {
     "name": "stdout",
     "output_type": "stream",
     "text": [
      "Step 5/6 : e = 1, Iprime = [1]\n"
     ]
    },
    {
     "name": "stderr",
     "output_type": "stream",
     "text": [
      "100%|██████████| 1326/1326 [00:00<00:00, 12642.06it/s]\n"
     ]
    },
    {
     "name": "stdout",
     "output_type": "stream",
     "text": [
      "Step 6/6 : e = 2, Iprime = [1]\n"
     ]
    },
    {
     "name": "stderr",
     "output_type": "stream",
     "text": [
      "100%|██████████| 1326/1326 [00:00<00:00, 14879.11it/s]\n"
     ]
    },
    {
     "name": "stdout",
     "output_type": "stream",
     "text": [
      "Step 1/6 : e = 0, Iprime = [0]\n"
     ]
    },
    {
     "name": "stderr",
     "output_type": "stream",
     "text": [
      "100%|██████████| 1326/1326 [00:02<00:00, 570.79it/s]\n"
     ]
    },
    {
     "name": "stdout",
     "output_type": "stream",
     "text": [
      "Step 2/6 : e = 1, Iprime = [0]\n"
     ]
    },
    {
     "name": "stderr",
     "output_type": "stream",
     "text": [
      "100%|██████████| 1326/1326 [00:02<00:00, 619.77it/s]\n"
     ]
    },
    {
     "name": "stdout",
     "output_type": "stream",
     "text": [
      "Step 3/6 : e = 2, Iprime = [0]\n"
     ]
    },
    {
     "name": "stderr",
     "output_type": "stream",
     "text": [
      "100%|██████████| 1326/1326 [00:01<00:00, 739.73it/s]\n"
     ]
    },
    {
     "name": "stdout",
     "output_type": "stream",
     "text": [
      "Step 4/6 : e = 0, Iprime = [1]\n"
     ]
    },
    {
     "name": "stderr",
     "output_type": "stream",
     "text": [
      "100%|██████████| 1326/1326 [00:00<00:00, 10738.93it/s]\n"
     ]
    },
    {
     "name": "stdout",
     "output_type": "stream",
     "text": [
      "Step 5/6 : e = 1, Iprime = [1]\n"
     ]
    },
    {
     "name": "stderr",
     "output_type": "stream",
     "text": [
      "100%|██████████| 1326/1326 [00:00<00:00, 13718.20it/s]\n"
     ]
    },
    {
     "name": "stdout",
     "output_type": "stream",
     "text": [
      "Step 6/6 : e = 2, Iprime = [1]\n"
     ]
    },
    {
     "name": "stderr",
     "output_type": "stream",
     "text": [
      "100%|██████████| 1326/1326 [00:00<00:00, 15584.26it/s]\n"
     ]
    },
    {
     "name": "stdout",
     "output_type": "stream",
     "text": [
      "Step 1/6 : e = 0, Iprime = [0]\n"
     ]
    },
    {
     "name": "stderr",
     "output_type": "stream",
     "text": [
      "100%|██████████| 1326/1326 [00:02<00:00, 588.71it/s]\n"
     ]
    },
    {
     "name": "stdout",
     "output_type": "stream",
     "text": [
      "Step 2/6 : e = 1, Iprime = [0]\n"
     ]
    },
    {
     "name": "stderr",
     "output_type": "stream",
     "text": [
      "100%|██████████| 1326/1326 [00:02<00:00, 645.53it/s]\n"
     ]
    },
    {
     "name": "stdout",
     "output_type": "stream",
     "text": [
      "Step 3/6 : e = 2, Iprime = [0]\n"
     ]
    },
    {
     "name": "stderr",
     "output_type": "stream",
     "text": [
      "100%|██████████| 1326/1326 [00:01<00:00, 750.06it/s]\n"
     ]
    },
    {
     "name": "stdout",
     "output_type": "stream",
     "text": [
      "Step 4/6 : e = 0, Iprime = [1]\n"
     ]
    },
    {
     "name": "stderr",
     "output_type": "stream",
     "text": [
      "100%|██████████| 1326/1326 [00:00<00:00, 10039.15it/s]\n"
     ]
    },
    {
     "name": "stdout",
     "output_type": "stream",
     "text": [
      "Step 5/6 : e = 1, Iprime = [1]\n"
     ]
    },
    {
     "name": "stderr",
     "output_type": "stream",
     "text": [
      "100%|██████████| 1326/1326 [00:00<00:00, 13304.39it/s]\n"
     ]
    },
    {
     "name": "stdout",
     "output_type": "stream",
     "text": [
      "Step 6/6 : e = 2, Iprime = [1]\n"
     ]
    },
    {
     "name": "stderr",
     "output_type": "stream",
     "text": [
      "100%|██████████| 1326/1326 [00:00<00:00, 15327.00it/s]\n"
     ]
    },
    {
     "name": "stdout",
     "output_type": "stream",
     "text": [
      "Results saved in g2p31_0.txt\n",
      "Results saved in g2p31_1.txt\n",
      "Results saved in g2p31_2.txt\n"
     ]
    }
   ],
   "source": [
    "p_values = [5,7,11,31]\n",
    "for p in p_values:\n",
    "    X_p = SiegelVariety(g = 2, p = p)\n",
    "    found = True\n",
    "    while found:\n",
    "        found = X_p.computeAll(-50,0)\n",
    "    X_p.save()"
   ]
  },
  {
   "cell_type": "markdown",
   "metadata": {},
   "source": [
    "We compute and save vanishing results for different values of $p$ when $g = 3$"
   ]
  },
  {
   "cell_type": "code",
   "execution_count": 13,
   "metadata": {},
   "outputs": [
    {
     "name": "stdout",
     "output_type": "stream",
     "text": [
      "Step 1/24 : e = 0, Iprime = [0, 0]\n"
     ]
    },
    {
     "name": "stderr",
     "output_type": "stream",
     "text": [
      "100%|██████████| 3276/3276 [00:33<00:00, 96.98it/s] \n"
     ]
    },
    {
     "name": "stdout",
     "output_type": "stream",
     "text": [
      "Step 2/24 : e = 1, Iprime = [0, 0]\n"
     ]
    },
    {
     "name": "stderr",
     "output_type": "stream",
     "text": [
      "100%|██████████| 3276/3276 [00:19<00:00, 170.04it/s]\n"
     ]
    },
    {
     "name": "stdout",
     "output_type": "stream",
     "text": [
      "Step 3/24 : e = 2, Iprime = [0, 0]\n"
     ]
    },
    {
     "name": "stderr",
     "output_type": "stream",
     "text": [
      "100%|██████████| 3276/3276 [00:16<00:00, 203.75it/s]\n"
     ]
    },
    {
     "name": "stdout",
     "output_type": "stream",
     "text": [
      "Step 4/24 : e = 3, Iprime = [0, 0]\n"
     ]
    },
    {
     "name": "stderr",
     "output_type": "stream",
     "text": [
      "100%|██████████| 3276/3276 [00:16<00:00, 198.22it/s]\n"
     ]
    },
    {
     "name": "stdout",
     "output_type": "stream",
     "text": [
      "Step 5/24 : e = 4, Iprime = [0, 0]\n"
     ]
    },
    {
     "name": "stderr",
     "output_type": "stream",
     "text": [
      "100%|██████████| 3276/3276 [00:15<00:00, 212.70it/s]\n"
     ]
    },
    {
     "name": "stdout",
     "output_type": "stream",
     "text": [
      "Step 6/24 : e = 5, Iprime = [0, 0]\n"
     ]
    },
    {
     "name": "stderr",
     "output_type": "stream",
     "text": [
      "100%|██████████| 3276/3276 [00:16<00:00, 194.69it/s]\n"
     ]
    },
    {
     "name": "stdout",
     "output_type": "stream",
     "text": [
      "Step 7/24 : e = 0, Iprime = [1, 0]\n"
     ]
    },
    {
     "name": "stderr",
     "output_type": "stream",
     "text": [
      "100%|██████████| 3276/3276 [00:05<00:00, 614.75it/s]\n"
     ]
    },
    {
     "name": "stdout",
     "output_type": "stream",
     "text": [
      "Step 8/24 : e = 1, Iprime = [1, 0]\n"
     ]
    },
    {
     "name": "stderr",
     "output_type": "stream",
     "text": [
      "100%|██████████| 3276/3276 [00:03<00:00, 1022.08it/s]\n"
     ]
    },
    {
     "name": "stdout",
     "output_type": "stream",
     "text": [
      "Step 9/24 : e = 2, Iprime = [1, 0]\n"
     ]
    },
    {
     "name": "stderr",
     "output_type": "stream",
     "text": [
      "100%|██████████| 3276/3276 [00:02<00:00, 1170.75it/s]\n"
     ]
    },
    {
     "name": "stdout",
     "output_type": "stream",
     "text": [
      "Step 10/24 : e = 3, Iprime = [1, 0]\n"
     ]
    },
    {
     "name": "stderr",
     "output_type": "stream",
     "text": [
      "100%|██████████| 3276/3276 [00:02<00:00, 1197.01it/s]\n"
     ]
    },
    {
     "name": "stdout",
     "output_type": "stream",
     "text": [
      "Step 11/24 : e = 4, Iprime = [1, 0]\n"
     ]
    },
    {
     "name": "stderr",
     "output_type": "stream",
     "text": [
      "100%|██████████| 3276/3276 [00:03<00:00, 845.96it/s] \n"
     ]
    },
    {
     "name": "stdout",
     "output_type": "stream",
     "text": [
      "Step 12/24 : e = 5, Iprime = [1, 0]\n"
     ]
    },
    {
     "name": "stderr",
     "output_type": "stream",
     "text": [
      "100%|██████████| 3276/3276 [00:02<00:00, 1125.25it/s]\n"
     ]
    },
    {
     "name": "stdout",
     "output_type": "stream",
     "text": [
      "Step 13/24 : e = 0, Iprime = [0, 1]\n"
     ]
    },
    {
     "name": "stderr",
     "output_type": "stream",
     "text": [
      "100%|██████████| 3276/3276 [00:05<00:00, 572.83it/s]\n"
     ]
    },
    {
     "name": "stdout",
     "output_type": "stream",
     "text": [
      "Step 14/24 : e = 1, Iprime = [0, 1]\n"
     ]
    },
    {
     "name": "stderr",
     "output_type": "stream",
     "text": [
      "100%|██████████| 3276/3276 [00:03<00:00, 1032.15it/s]\n"
     ]
    },
    {
     "name": "stdout",
     "output_type": "stream",
     "text": [
      "Step 15/24 : e = 2, Iprime = [0, 1]\n"
     ]
    },
    {
     "name": "stderr",
     "output_type": "stream",
     "text": [
      "100%|██████████| 3276/3276 [00:04<00:00, 755.38it/s]\n"
     ]
    },
    {
     "name": "stdout",
     "output_type": "stream",
     "text": [
      "Step 16/24 : e = 3, Iprime = [0, 1]\n"
     ]
    },
    {
     "name": "stderr",
     "output_type": "stream",
     "text": [
      "100%|██████████| 3276/3276 [00:03<00:00, 1053.46it/s]\n"
     ]
    },
    {
     "name": "stdout",
     "output_type": "stream",
     "text": [
      "Step 17/24 : e = 4, Iprime = [0, 1]\n"
     ]
    },
    {
     "name": "stderr",
     "output_type": "stream",
     "text": [
      "100%|██████████| 3276/3276 [00:03<00:00, 998.26it/s] \n"
     ]
    },
    {
     "name": "stdout",
     "output_type": "stream",
     "text": [
      "Step 18/24 : e = 5, Iprime = [0, 1]\n"
     ]
    },
    {
     "name": "stderr",
     "output_type": "stream",
     "text": [
      "100%|██████████| 3276/3276 [00:03<00:00, 964.70it/s] \n"
     ]
    },
    {
     "name": "stdout",
     "output_type": "stream",
     "text": [
      "Step 19/24 : e = 0, Iprime = [1, 1]\n"
     ]
    },
    {
     "name": "stderr",
     "output_type": "stream",
     "text": [
      "100%|██████████| 3276/3276 [00:01<00:00, 2712.12it/s]\n"
     ]
    },
    {
     "name": "stdout",
     "output_type": "stream",
     "text": [
      "Step 20/24 : e = 1, Iprime = [1, 1]\n"
     ]
    },
    {
     "name": "stderr",
     "output_type": "stream",
     "text": [
      "100%|██████████| 3276/3276 [00:01<00:00, 2899.45it/s]\n"
     ]
    },
    {
     "name": "stdout",
     "output_type": "stream",
     "text": [
      "Step 21/24 : e = 2, Iprime = [1, 1]\n"
     ]
    },
    {
     "name": "stderr",
     "output_type": "stream",
     "text": [
      "100%|██████████| 3276/3276 [00:01<00:00, 2635.12it/s]\n"
     ]
    },
    {
     "name": "stdout",
     "output_type": "stream",
     "text": [
      "Step 22/24 : e = 3, Iprime = [1, 1]\n"
     ]
    },
    {
     "name": "stderr",
     "output_type": "stream",
     "text": [
      "100%|██████████| 3276/3276 [00:01<00:00, 2891.09it/s]\n"
     ]
    },
    {
     "name": "stdout",
     "output_type": "stream",
     "text": [
      "Step 23/24 : e = 4, Iprime = [1, 1]\n"
     ]
    },
    {
     "name": "stderr",
     "output_type": "stream",
     "text": [
      "100%|██████████| 3276/3276 [00:01<00:00, 2580.97it/s]\n"
     ]
    },
    {
     "name": "stdout",
     "output_type": "stream",
     "text": [
      "Step 24/24 : e = 5, Iprime = [1, 1]\n"
     ]
    },
    {
     "name": "stderr",
     "output_type": "stream",
     "text": [
      "100%|██████████| 3276/3276 [00:01<00:00, 2226.79it/s]\n"
     ]
    },
    {
     "name": "stdout",
     "output_type": "stream",
     "text": [
      "Step 1/24 : e = 0, Iprime = [0, 0]\n"
     ]
    },
    {
     "name": "stderr",
     "output_type": "stream",
     "text": [
      "100%|██████████| 3276/3276 [00:21<00:00, 151.16it/s]\n"
     ]
    },
    {
     "name": "stdout",
     "output_type": "stream",
     "text": [
      "Step 2/24 : e = 1, Iprime = [0, 0]\n"
     ]
    },
    {
     "name": "stderr",
     "output_type": "stream",
     "text": [
      "100%|██████████| 3276/3276 [00:17<00:00, 185.46it/s]\n"
     ]
    },
    {
     "name": "stdout",
     "output_type": "stream",
     "text": [
      "Step 3/24 : e = 2, Iprime = [0, 0]\n"
     ]
    },
    {
     "name": "stderr",
     "output_type": "stream",
     "text": [
      "100%|██████████| 3276/3276 [00:15<00:00, 215.76it/s]\n"
     ]
    },
    {
     "name": "stdout",
     "output_type": "stream",
     "text": [
      "Step 4/24 : e = 3, Iprime = [0, 0]\n"
     ]
    },
    {
     "name": "stderr",
     "output_type": "stream",
     "text": [
      "100%|██████████| 3276/3276 [00:15<00:00, 211.43it/s]\n"
     ]
    },
    {
     "name": "stdout",
     "output_type": "stream",
     "text": [
      "Step 5/24 : e = 4, Iprime = [0, 0]\n"
     ]
    },
    {
     "name": "stderr",
     "output_type": "stream",
     "text": [
      "100%|██████████| 3276/3276 [00:14<00:00, 219.07it/s]\n"
     ]
    },
    {
     "name": "stdout",
     "output_type": "stream",
     "text": [
      "Step 6/24 : e = 5, Iprime = [0, 0]\n"
     ]
    },
    {
     "name": "stderr",
     "output_type": "stream",
     "text": [
      "100%|██████████| 3276/3276 [00:08<00:00, 368.00it/s]\n"
     ]
    },
    {
     "name": "stdout",
     "output_type": "stream",
     "text": [
      "Step 7/24 : e = 0, Iprime = [1, 0]\n"
     ]
    },
    {
     "name": "stderr",
     "output_type": "stream",
     "text": [
      "100%|██████████| 3276/3276 [00:03<00:00, 1086.79it/s]\n"
     ]
    },
    {
     "name": "stdout",
     "output_type": "stream",
     "text": [
      "Step 8/24 : e = 1, Iprime = [1, 0]\n"
     ]
    },
    {
     "name": "stderr",
     "output_type": "stream",
     "text": [
      "100%|██████████| 3276/3276 [00:03<00:00, 1042.03it/s]\n"
     ]
    },
    {
     "name": "stdout",
     "output_type": "stream",
     "text": [
      "Step 9/24 : e = 2, Iprime = [1, 0]\n"
     ]
    },
    {
     "name": "stderr",
     "output_type": "stream",
     "text": [
      "100%|██████████| 3276/3276 [00:02<00:00, 1118.29it/s]\n"
     ]
    },
    {
     "name": "stdout",
     "output_type": "stream",
     "text": [
      "Step 10/24 : e = 3, Iprime = [1, 0]\n"
     ]
    },
    {
     "name": "stderr",
     "output_type": "stream",
     "text": [
      "100%|██████████| 3276/3276 [00:02<00:00, 1141.67it/s]\n"
     ]
    },
    {
     "name": "stdout",
     "output_type": "stream",
     "text": [
      "Step 11/24 : e = 4, Iprime = [1, 0]\n"
     ]
    },
    {
     "name": "stderr",
     "output_type": "stream",
     "text": [
      "100%|██████████| 3276/3276 [00:03<00:00, 973.62it/s] \n"
     ]
    },
    {
     "name": "stdout",
     "output_type": "stream",
     "text": [
      "Step 12/24 : e = 5, Iprime = [1, 0]\n"
     ]
    },
    {
     "name": "stderr",
     "output_type": "stream",
     "text": [
      "100%|██████████| 3276/3276 [00:02<00:00, 1573.18it/s]\n"
     ]
    },
    {
     "name": "stdout",
     "output_type": "stream",
     "text": [
      "Step 13/24 : e = 0, Iprime = [0, 1]\n"
     ]
    },
    {
     "name": "stderr",
     "output_type": "stream",
     "text": [
      "100%|██████████| 3276/3276 [00:03<00:00, 982.11it/s] \n"
     ]
    },
    {
     "name": "stdout",
     "output_type": "stream",
     "text": [
      "Step 14/24 : e = 1, Iprime = [0, 1]\n"
     ]
    },
    {
     "name": "stderr",
     "output_type": "stream",
     "text": [
      "100%|██████████| 3276/3276 [00:03<00:00, 1065.04it/s]\n"
     ]
    },
    {
     "name": "stdout",
     "output_type": "stream",
     "text": [
      "Step 15/24 : e = 2, Iprime = [0, 1]\n"
     ]
    },
    {
     "name": "stderr",
     "output_type": "stream",
     "text": [
      "100%|██████████| 3276/3276 [00:04<00:00, 781.97it/s] \n"
     ]
    },
    {
     "name": "stdout",
     "output_type": "stream",
     "text": [
      "Step 16/24 : e = 3, Iprime = [0, 1]\n"
     ]
    },
    {
     "name": "stderr",
     "output_type": "stream",
     "text": [
      "100%|██████████| 3276/3276 [00:03<00:00, 1067.06it/s]\n"
     ]
    },
    {
     "name": "stdout",
     "output_type": "stream",
     "text": [
      "Step 17/24 : e = 4, Iprime = [0, 1]\n"
     ]
    },
    {
     "name": "stderr",
     "output_type": "stream",
     "text": [
      "100%|██████████| 3276/3276 [00:03<00:00, 1030.89it/s]\n"
     ]
    },
    {
     "name": "stdout",
     "output_type": "stream",
     "text": [
      "Step 18/24 : e = 5, Iprime = [0, 1]\n"
     ]
    },
    {
     "name": "stderr",
     "output_type": "stream",
     "text": [
      "100%|██████████| 3276/3276 [00:02<00:00, 1398.22it/s]\n"
     ]
    },
    {
     "name": "stdout",
     "output_type": "stream",
     "text": [
      "Step 19/24 : e = 0, Iprime = [1, 1]\n"
     ]
    },
    {
     "name": "stderr",
     "output_type": "stream",
     "text": [
      "100%|██████████| 3276/3276 [00:01<00:00, 3169.45it/s]\n"
     ]
    },
    {
     "name": "stdout",
     "output_type": "stream",
     "text": [
      "Step 20/24 : e = 1, Iprime = [1, 1]\n"
     ]
    },
    {
     "name": "stderr",
     "output_type": "stream",
     "text": [
      "100%|██████████| 3276/3276 [00:01<00:00, 2882.48it/s]\n"
     ]
    },
    {
     "name": "stdout",
     "output_type": "stream",
     "text": [
      "Step 21/24 : e = 2, Iprime = [1, 1]\n"
     ]
    },
    {
     "name": "stderr",
     "output_type": "stream",
     "text": [
      "100%|██████████| 3276/3276 [00:01<00:00, 2864.47it/s]\n"
     ]
    },
    {
     "name": "stdout",
     "output_type": "stream",
     "text": [
      "Step 22/24 : e = 3, Iprime = [1, 1]\n"
     ]
    },
    {
     "name": "stderr",
     "output_type": "stream",
     "text": [
      "100%|██████████| 3276/3276 [00:01<00:00, 2830.98it/s]\n"
     ]
    },
    {
     "name": "stdout",
     "output_type": "stream",
     "text": [
      "Step 23/24 : e = 4, Iprime = [1, 1]\n"
     ]
    },
    {
     "name": "stderr",
     "output_type": "stream",
     "text": [
      "100%|██████████| 3276/3276 [00:01<00:00, 2768.96it/s]\n"
     ]
    },
    {
     "name": "stdout",
     "output_type": "stream",
     "text": [
      "Step 24/24 : e = 5, Iprime = [1, 1]\n"
     ]
    },
    {
     "name": "stderr",
     "output_type": "stream",
     "text": [
      "100%|██████████| 3276/3276 [00:01<00:00, 2149.89it/s]\n"
     ]
    },
    {
     "name": "stdout",
     "output_type": "stream",
     "text": [
      "Results saved in g3p11_0.txt\n",
      "Results saved in g3p11_1.txt\n",
      "Results saved in g3p11_2.txt\n",
      "Results saved in g3p11_3.txt\n",
      "Results saved in g3p11_4.txt\n",
      "Results saved in g3p11_5.txt\n",
      "Step 1/24 : e = 0, Iprime = [0, 0]\n"
     ]
    },
    {
     "name": "stderr",
     "output_type": "stream",
     "text": [
      "100%|██████████| 3276/3276 [00:56<00:00, 58.19it/s]\n"
     ]
    },
    {
     "name": "stdout",
     "output_type": "stream",
     "text": [
      "Step 2/24 : e = 1, Iprime = [0, 0]\n"
     ]
    },
    {
     "name": "stderr",
     "output_type": "stream",
     "text": [
      "100%|██████████| 3276/3276 [00:28<00:00, 114.31it/s]\n"
     ]
    },
    {
     "name": "stdout",
     "output_type": "stream",
     "text": [
      "Step 3/24 : e = 2, Iprime = [0, 0]\n"
     ]
    },
    {
     "name": "stderr",
     "output_type": "stream",
     "text": [
      "100%|██████████| 3276/3276 [00:23<00:00, 137.34it/s]\n"
     ]
    },
    {
     "name": "stdout",
     "output_type": "stream",
     "text": [
      "Step 4/24 : e = 3, Iprime = [0, 0]\n"
     ]
    },
    {
     "name": "stderr",
     "output_type": "stream",
     "text": [
      "100%|██████████| 3276/3276 [00:24<00:00, 135.19it/s]\n"
     ]
    },
    {
     "name": "stdout",
     "output_type": "stream",
     "text": [
      "Step 5/24 : e = 4, Iprime = [0, 0]\n"
     ]
    },
    {
     "name": "stderr",
     "output_type": "stream",
     "text": [
      "100%|██████████| 3276/3276 [00:24<00:00, 134.98it/s]\n"
     ]
    },
    {
     "name": "stdout",
     "output_type": "stream",
     "text": [
      "Step 6/24 : e = 5, Iprime = [0, 0]\n"
     ]
    },
    {
     "name": "stderr",
     "output_type": "stream",
     "text": [
      "100%|██████████| 3276/3276 [00:26<00:00, 121.93it/s]\n"
     ]
    },
    {
     "name": "stdout",
     "output_type": "stream",
     "text": [
      "Step 7/24 : e = 0, Iprime = [1, 0]\n"
     ]
    },
    {
     "name": "stderr",
     "output_type": "stream",
     "text": [
      "100%|██████████| 3276/3276 [00:03<00:00, 841.85it/s] \n"
     ]
    },
    {
     "name": "stdout",
     "output_type": "stream",
     "text": [
      "Step 8/24 : e = 1, Iprime = [1, 0]\n"
     ]
    },
    {
     "name": "stderr",
     "output_type": "stream",
     "text": [
      "100%|██████████| 3276/3276 [00:03<00:00, 932.57it/s] \n"
     ]
    },
    {
     "name": "stdout",
     "output_type": "stream",
     "text": [
      "Step 9/24 : e = 2, Iprime = [1, 0]\n"
     ]
    },
    {
     "name": "stderr",
     "output_type": "stream",
     "text": [
      "100%|██████████| 3276/3276 [00:03<00:00, 966.40it/s] \n"
     ]
    },
    {
     "name": "stdout",
     "output_type": "stream",
     "text": [
      "Step 10/24 : e = 3, Iprime = [1, 0]\n"
     ]
    },
    {
     "name": "stderr",
     "output_type": "stream",
     "text": [
      "100%|██████████| 3276/3276 [00:03<00:00, 968.04it/s] \n"
     ]
    },
    {
     "name": "stdout",
     "output_type": "stream",
     "text": [
      "Step 11/24 : e = 4, Iprime = [1, 0]\n"
     ]
    },
    {
     "name": "stderr",
     "output_type": "stream",
     "text": [
      "100%|██████████| 3276/3276 [00:03<00:00, 856.98it/s] \n"
     ]
    },
    {
     "name": "stdout",
     "output_type": "stream",
     "text": [
      "Step 12/24 : e = 5, Iprime = [1, 0]\n"
     ]
    },
    {
     "name": "stderr",
     "output_type": "stream",
     "text": [
      "100%|██████████| 3276/3276 [00:02<00:00, 1159.26it/s]\n"
     ]
    },
    {
     "name": "stdout",
     "output_type": "stream",
     "text": [
      "Step 13/24 : e = 0, Iprime = [0, 1]\n"
     ]
    },
    {
     "name": "stderr",
     "output_type": "stream",
     "text": [
      "100%|██████████| 3276/3276 [00:03<00:00, 839.20it/s] \n"
     ]
    },
    {
     "name": "stdout",
     "output_type": "stream",
     "text": [
      "Step 14/24 : e = 1, Iprime = [0, 1]\n"
     ]
    },
    {
     "name": "stderr",
     "output_type": "stream",
     "text": [
      "100%|██████████| 3276/3276 [00:03<00:00, 927.50it/s] \n"
     ]
    },
    {
     "name": "stdout",
     "output_type": "stream",
     "text": [
      "Step 15/24 : e = 2, Iprime = [0, 1]\n"
     ]
    },
    {
     "name": "stderr",
     "output_type": "stream",
     "text": [
      "100%|██████████| 3276/3276 [00:03<00:00, 955.89it/s] \n"
     ]
    },
    {
     "name": "stdout",
     "output_type": "stream",
     "text": [
      "Step 16/24 : e = 3, Iprime = [0, 1]\n"
     ]
    },
    {
     "name": "stderr",
     "output_type": "stream",
     "text": [
      "100%|██████████| 3276/3276 [00:03<00:00, 945.32it/s] \n"
     ]
    },
    {
     "name": "stdout",
     "output_type": "stream",
     "text": [
      "Step 17/24 : e = 4, Iprime = [0, 1]\n"
     ]
    },
    {
     "name": "stderr",
     "output_type": "stream",
     "text": [
      "100%|██████████| 3276/3276 [00:03<00:00, 943.48it/s] \n"
     ]
    },
    {
     "name": "stdout",
     "output_type": "stream",
     "text": [
      "Step 18/24 : e = 5, Iprime = [0, 1]\n"
     ]
    },
    {
     "name": "stderr",
     "output_type": "stream",
     "text": [
      "100%|██████████| 3276/3276 [00:02<00:00, 1152.98it/s]\n"
     ]
    },
    {
     "name": "stdout",
     "output_type": "stream",
     "text": [
      "Step 19/24 : e = 0, Iprime = [1, 1]\n"
     ]
    },
    {
     "name": "stderr",
     "output_type": "stream",
     "text": [
      "100%|██████████| 3276/3276 [00:01<00:00, 2498.30it/s]\n"
     ]
    },
    {
     "name": "stdout",
     "output_type": "stream",
     "text": [
      "Step 20/24 : e = 1, Iprime = [1, 1]\n"
     ]
    },
    {
     "name": "stderr",
     "output_type": "stream",
     "text": [
      "100%|██████████| 3276/3276 [00:01<00:00, 2304.66it/s]\n"
     ]
    },
    {
     "name": "stdout",
     "output_type": "stream",
     "text": [
      "Step 21/24 : e = 2, Iprime = [1, 1]\n"
     ]
    },
    {
     "name": "stderr",
     "output_type": "stream",
     "text": [
      "100%|██████████| 3276/3276 [00:01<00:00, 2278.77it/s]\n"
     ]
    },
    {
     "name": "stdout",
     "output_type": "stream",
     "text": [
      "Step 22/24 : e = 3, Iprime = [1, 1]\n"
     ]
    },
    {
     "name": "stderr",
     "output_type": "stream",
     "text": [
      "100%|██████████| 3276/3276 [00:01<00:00, 2296.33it/s]\n"
     ]
    },
    {
     "name": "stdout",
     "output_type": "stream",
     "text": [
      "Step 23/24 : e = 4, Iprime = [1, 1]\n"
     ]
    },
    {
     "name": "stderr",
     "output_type": "stream",
     "text": [
      "100%|██████████| 3276/3276 [00:01<00:00, 2221.04it/s]\n"
     ]
    },
    {
     "name": "stdout",
     "output_type": "stream",
     "text": [
      "Step 24/24 : e = 5, Iprime = [1, 1]\n"
     ]
    },
    {
     "name": "stderr",
     "output_type": "stream",
     "text": [
      "100%|██████████| 3276/3276 [00:01<00:00, 1865.95it/s]\n"
     ]
    },
    {
     "name": "stdout",
     "output_type": "stream",
     "text": [
      "Step 1/24 : e = 0, Iprime = [0, 0]\n"
     ]
    },
    {
     "name": "stderr",
     "output_type": "stream",
     "text": [
      "100%|██████████| 3276/3276 [00:33<00:00, 96.78it/s] \n"
     ]
    },
    {
     "name": "stdout",
     "output_type": "stream",
     "text": [
      "Step 2/24 : e = 1, Iprime = [0, 0]\n"
     ]
    },
    {
     "name": "stderr",
     "output_type": "stream",
     "text": [
      "100%|██████████| 3276/3276 [00:26<00:00, 125.84it/s]\n"
     ]
    },
    {
     "name": "stdout",
     "output_type": "stream",
     "text": [
      "Step 3/24 : e = 2, Iprime = [0, 0]\n"
     ]
    },
    {
     "name": "stderr",
     "output_type": "stream",
     "text": [
      "100%|██████████| 3276/3276 [00:22<00:00, 147.35it/s]\n"
     ]
    },
    {
     "name": "stdout",
     "output_type": "stream",
     "text": [
      "Step 4/24 : e = 3, Iprime = [0, 0]\n"
     ]
    },
    {
     "name": "stderr",
     "output_type": "stream",
     "text": [
      "100%|██████████| 3276/3276 [00:22<00:00, 142.87it/s]\n"
     ]
    },
    {
     "name": "stdout",
     "output_type": "stream",
     "text": [
      "Step 5/24 : e = 4, Iprime = [0, 0]\n"
     ]
    },
    {
     "name": "stderr",
     "output_type": "stream",
     "text": [
      "100%|██████████| 3276/3276 [00:23<00:00, 141.05it/s]\n"
     ]
    },
    {
     "name": "stdout",
     "output_type": "stream",
     "text": [
      "Step 6/24 : e = 5, Iprime = [0, 0]\n"
     ]
    },
    {
     "name": "stderr",
     "output_type": "stream",
     "text": [
      "100%|██████████| 3276/3276 [00:15<00:00, 215.11it/s]\n"
     ]
    },
    {
     "name": "stdout",
     "output_type": "stream",
     "text": [
      "Step 7/24 : e = 0, Iprime = [1, 0]\n"
     ]
    },
    {
     "name": "stderr",
     "output_type": "stream",
     "text": [
      "100%|██████████| 3276/3276 [00:03<00:00, 923.20it/s] \n"
     ]
    },
    {
     "name": "stdout",
     "output_type": "stream",
     "text": [
      "Step 8/24 : e = 1, Iprime = [1, 0]\n"
     ]
    },
    {
     "name": "stderr",
     "output_type": "stream",
     "text": [
      "100%|██████████| 3276/3276 [00:03<00:00, 909.98it/s] \n"
     ]
    },
    {
     "name": "stdout",
     "output_type": "stream",
     "text": [
      "Step 9/24 : e = 2, Iprime = [1, 0]\n"
     ]
    },
    {
     "name": "stderr",
     "output_type": "stream",
     "text": [
      "100%|██████████| 3276/3276 [00:03<00:00, 894.69it/s] \n"
     ]
    },
    {
     "name": "stdout",
     "output_type": "stream",
     "text": [
      "Step 10/24 : e = 3, Iprime = [1, 0]\n"
     ]
    },
    {
     "name": "stderr",
     "output_type": "stream",
     "text": [
      "100%|██████████| 3276/3276 [00:03<00:00, 911.31it/s] \n"
     ]
    },
    {
     "name": "stdout",
     "output_type": "stream",
     "text": [
      "Step 11/24 : e = 4, Iprime = [1, 0]\n"
     ]
    },
    {
     "name": "stderr",
     "output_type": "stream",
     "text": [
      "100%|██████████| 3276/3276 [00:03<00:00, 1037.24it/s]\n"
     ]
    },
    {
     "name": "stdout",
     "output_type": "stream",
     "text": [
      "Step 12/24 : e = 5, Iprime = [1, 0]\n"
     ]
    },
    {
     "name": "stderr",
     "output_type": "stream",
     "text": [
      "100%|██████████| 3276/3276 [00:02<00:00, 1285.87it/s]\n"
     ]
    },
    {
     "name": "stdout",
     "output_type": "stream",
     "text": [
      "Step 13/24 : e = 0, Iprime = [0, 1]\n"
     ]
    },
    {
     "name": "stderr",
     "output_type": "stream",
     "text": [
      "100%|██████████| 3276/3276 [00:03<00:00, 843.43it/s] \n"
     ]
    },
    {
     "name": "stdout",
     "output_type": "stream",
     "text": [
      "Step 14/24 : e = 1, Iprime = [0, 1]\n"
     ]
    },
    {
     "name": "stderr",
     "output_type": "stream",
     "text": [
      "100%|██████████| 3276/3276 [00:03<00:00, 994.20it/s] \n"
     ]
    },
    {
     "name": "stdout",
     "output_type": "stream",
     "text": [
      "Step 15/24 : e = 2, Iprime = [0, 1]\n"
     ]
    },
    {
     "name": "stderr",
     "output_type": "stream",
     "text": [
      "100%|██████████| 3276/3276 [00:03<00:00, 1026.47it/s]\n"
     ]
    },
    {
     "name": "stdout",
     "output_type": "stream",
     "text": [
      "Step 16/24 : e = 3, Iprime = [0, 1]\n"
     ]
    },
    {
     "name": "stderr",
     "output_type": "stream",
     "text": [
      "100%|██████████| 3276/3276 [00:03<00:00, 1002.91it/s]\n"
     ]
    },
    {
     "name": "stdout",
     "output_type": "stream",
     "text": [
      "Step 17/24 : e = 4, Iprime = [0, 1]\n"
     ]
    },
    {
     "name": "stderr",
     "output_type": "stream",
     "text": [
      "100%|██████████| 3276/3276 [00:03<00:00, 990.82it/s] \n"
     ]
    },
    {
     "name": "stdout",
     "output_type": "stream",
     "text": [
      "Step 18/24 : e = 5, Iprime = [0, 1]\n"
     ]
    },
    {
     "name": "stderr",
     "output_type": "stream",
     "text": [
      "100%|██████████| 3276/3276 [00:02<00:00, 1125.36it/s]\n"
     ]
    },
    {
     "name": "stdout",
     "output_type": "stream",
     "text": [
      "Step 19/24 : e = 0, Iprime = [1, 1]\n"
     ]
    },
    {
     "name": "stderr",
     "output_type": "stream",
     "text": [
      "100%|██████████| 3276/3276 [00:01<00:00, 2524.59it/s]\n"
     ]
    },
    {
     "name": "stdout",
     "output_type": "stream",
     "text": [
      "Step 20/24 : e = 1, Iprime = [1, 1]\n"
     ]
    },
    {
     "name": "stderr",
     "output_type": "stream",
     "text": [
      "100%|██████████| 3276/3276 [00:01<00:00, 2276.51it/s]\n"
     ]
    },
    {
     "name": "stdout",
     "output_type": "stream",
     "text": [
      "Step 21/24 : e = 2, Iprime = [1, 1]\n"
     ]
    },
    {
     "name": "stderr",
     "output_type": "stream",
     "text": [
      "100%|██████████| 3276/3276 [00:01<00:00, 2307.95it/s]\n"
     ]
    },
    {
     "name": "stdout",
     "output_type": "stream",
     "text": [
      "Step 22/24 : e = 3, Iprime = [1, 1]\n"
     ]
    },
    {
     "name": "stderr",
     "output_type": "stream",
     "text": [
      "100%|██████████| 3276/3276 [00:01<00:00, 2267.72it/s]\n"
     ]
    },
    {
     "name": "stdout",
     "output_type": "stream",
     "text": [
      "Step 23/24 : e = 4, Iprime = [1, 1]\n"
     ]
    },
    {
     "name": "stderr",
     "output_type": "stream",
     "text": [
      "100%|██████████| 3276/3276 [00:01<00:00, 2210.64it/s]\n"
     ]
    },
    {
     "name": "stdout",
     "output_type": "stream",
     "text": [
      "Step 24/24 : e = 5, Iprime = [1, 1]\n"
     ]
    },
    {
     "name": "stderr",
     "output_type": "stream",
     "text": [
      "100%|██████████| 3276/3276 [00:01<00:00, 1837.57it/s]\n"
     ]
    },
    {
     "name": "stdout",
     "output_type": "stream",
     "text": [
      "Results saved in g3p31_0.txt\n",
      "Results saved in g3p31_1.txt\n",
      "Results saved in g3p31_2.txt\n",
      "Results saved in g3p31_3.txt\n",
      "Results saved in g3p31_4.txt\n",
      "Results saved in g3p31_5.txt\n",
      "Step 1/24 : e = 0, Iprime = [0, 0]\n"
     ]
    },
    {
     "name": "stderr",
     "output_type": "stream",
     "text": [
      "100%|██████████| 3276/3276 [00:56<00:00, 57.82it/s]\n"
     ]
    },
    {
     "name": "stdout",
     "output_type": "stream",
     "text": [
      "Step 2/24 : e = 1, Iprime = [0, 0]\n"
     ]
    },
    {
     "name": "stderr",
     "output_type": "stream",
     "text": [
      "100%|██████████| 3276/3276 [00:28<00:00, 114.04it/s]\n"
     ]
    },
    {
     "name": "stdout",
     "output_type": "stream",
     "text": [
      "Step 3/24 : e = 2, Iprime = [0, 0]\n"
     ]
    },
    {
     "name": "stderr",
     "output_type": "stream",
     "text": [
      "100%|██████████| 3276/3276 [00:23<00:00, 136.55it/s]\n"
     ]
    },
    {
     "name": "stdout",
     "output_type": "stream",
     "text": [
      "Step 4/24 : e = 3, Iprime = [0, 0]\n"
     ]
    },
    {
     "name": "stderr",
     "output_type": "stream",
     "text": [
      "100%|██████████| 3276/3276 [00:24<00:00, 134.04it/s]\n"
     ]
    },
    {
     "name": "stdout",
     "output_type": "stream",
     "text": [
      "Step 5/24 : e = 4, Iprime = [0, 0]\n"
     ]
    },
    {
     "name": "stderr",
     "output_type": "stream",
     "text": [
      "100%|██████████| 3276/3276 [00:24<00:00, 135.72it/s]\n"
     ]
    },
    {
     "name": "stdout",
     "output_type": "stream",
     "text": [
      "Step 6/24 : e = 5, Iprime = [0, 0]\n"
     ]
    },
    {
     "name": "stderr",
     "output_type": "stream",
     "text": [
      "100%|██████████| 3276/3276 [00:26<00:00, 122.25it/s]\n"
     ]
    },
    {
     "name": "stdout",
     "output_type": "stream",
     "text": [
      "Step 7/24 : e = 0, Iprime = [1, 0]\n"
     ]
    },
    {
     "name": "stderr",
     "output_type": "stream",
     "text": [
      "100%|██████████| 3276/3276 [00:03<00:00, 845.46it/s] \n"
     ]
    },
    {
     "name": "stdout",
     "output_type": "stream",
     "text": [
      "Step 8/24 : e = 1, Iprime = [1, 0]\n"
     ]
    },
    {
     "name": "stderr",
     "output_type": "stream",
     "text": [
      "100%|██████████| 3276/3276 [00:03<00:00, 939.14it/s] \n"
     ]
    },
    {
     "name": "stdout",
     "output_type": "stream",
     "text": [
      "Step 9/24 : e = 2, Iprime = [1, 0]\n"
     ]
    },
    {
     "name": "stderr",
     "output_type": "stream",
     "text": [
      "100%|██████████| 3276/3276 [00:03<00:00, 970.35it/s] \n"
     ]
    },
    {
     "name": "stdout",
     "output_type": "stream",
     "text": [
      "Step 10/24 : e = 3, Iprime = [1, 0]\n"
     ]
    },
    {
     "name": "stderr",
     "output_type": "stream",
     "text": [
      "100%|██████████| 3276/3276 [00:03<00:00, 970.20it/s] \n"
     ]
    },
    {
     "name": "stdout",
     "output_type": "stream",
     "text": [
      "Step 11/24 : e = 4, Iprime = [1, 0]\n"
     ]
    },
    {
     "name": "stderr",
     "output_type": "stream",
     "text": [
      "100%|██████████| 3276/3276 [00:03<00:00, 864.97it/s] \n"
     ]
    },
    {
     "name": "stdout",
     "output_type": "stream",
     "text": [
      "Step 12/24 : e = 5, Iprime = [1, 0]\n"
     ]
    },
    {
     "name": "stderr",
     "output_type": "stream",
     "text": [
      "100%|██████████| 3276/3276 [00:02<00:00, 1141.14it/s]\n"
     ]
    },
    {
     "name": "stdout",
     "output_type": "stream",
     "text": [
      "Step 13/24 : e = 0, Iprime = [0, 1]\n"
     ]
    },
    {
     "name": "stderr",
     "output_type": "stream",
     "text": [
      "100%|██████████| 3276/3276 [00:03<00:00, 838.03it/s] \n"
     ]
    },
    {
     "name": "stdout",
     "output_type": "stream",
     "text": [
      "Step 14/24 : e = 1, Iprime = [0, 1]\n"
     ]
    },
    {
     "name": "stderr",
     "output_type": "stream",
     "text": [
      "100%|██████████| 3276/3276 [00:03<00:00, 939.68it/s] \n"
     ]
    },
    {
     "name": "stdout",
     "output_type": "stream",
     "text": [
      "Step 15/24 : e = 2, Iprime = [0, 1]\n"
     ]
    },
    {
     "name": "stderr",
     "output_type": "stream",
     "text": [
      "100%|██████████| 3276/3276 [00:03<00:00, 943.47it/s] \n"
     ]
    },
    {
     "name": "stdout",
     "output_type": "stream",
     "text": [
      "Step 16/24 : e = 3, Iprime = [0, 1]\n"
     ]
    },
    {
     "name": "stderr",
     "output_type": "stream",
     "text": [
      "100%|██████████| 3276/3276 [00:03<00:00, 950.59it/s] \n"
     ]
    },
    {
     "name": "stdout",
     "output_type": "stream",
     "text": [
      "Step 17/24 : e = 4, Iprime = [0, 1]\n"
     ]
    },
    {
     "name": "stderr",
     "output_type": "stream",
     "text": [
      "100%|██████████| 3276/3276 [00:03<00:00, 923.78it/s] \n"
     ]
    },
    {
     "name": "stdout",
     "output_type": "stream",
     "text": [
      "Step 18/24 : e = 5, Iprime = [0, 1]\n"
     ]
    },
    {
     "name": "stderr",
     "output_type": "stream",
     "text": [
      "100%|██████████| 3276/3276 [00:02<00:00, 1162.05it/s]\n"
     ]
    },
    {
     "name": "stdout",
     "output_type": "stream",
     "text": [
      "Step 19/24 : e = 0, Iprime = [1, 1]\n"
     ]
    },
    {
     "name": "stderr",
     "output_type": "stream",
     "text": [
      "100%|██████████| 3276/3276 [00:01<00:00, 2484.47it/s]\n"
     ]
    },
    {
     "name": "stdout",
     "output_type": "stream",
     "text": [
      "Step 20/24 : e = 1, Iprime = [1, 1]\n"
     ]
    },
    {
     "name": "stderr",
     "output_type": "stream",
     "text": [
      "100%|██████████| 3276/3276 [00:01<00:00, 2308.34it/s]\n"
     ]
    },
    {
     "name": "stdout",
     "output_type": "stream",
     "text": [
      "Step 21/24 : e = 2, Iprime = [1, 1]\n"
     ]
    },
    {
     "name": "stderr",
     "output_type": "stream",
     "text": [
      "100%|██████████| 3276/3276 [00:01<00:00, 2284.62it/s]\n"
     ]
    },
    {
     "name": "stdout",
     "output_type": "stream",
     "text": [
      "Step 22/24 : e = 3, Iprime = [1, 1]\n"
     ]
    },
    {
     "name": "stderr",
     "output_type": "stream",
     "text": [
      "100%|██████████| 3276/3276 [00:01<00:00, 2282.88it/s]\n"
     ]
    },
    {
     "name": "stdout",
     "output_type": "stream",
     "text": [
      "Step 23/24 : e = 4, Iprime = [1, 1]\n"
     ]
    },
    {
     "name": "stderr",
     "output_type": "stream",
     "text": [
      "100%|██████████| 3276/3276 [00:01<00:00, 2207.21it/s]\n"
     ]
    },
    {
     "name": "stdout",
     "output_type": "stream",
     "text": [
      "Step 24/24 : e = 5, Iprime = [1, 1]\n"
     ]
    },
    {
     "name": "stderr",
     "output_type": "stream",
     "text": [
      "100%|██████████| 3276/3276 [00:01<00:00, 1873.80it/s]\n"
     ]
    },
    {
     "name": "stdout",
     "output_type": "stream",
     "text": [
      "Step 1/24 : e = 0, Iprime = [0, 0]\n"
     ]
    },
    {
     "name": "stderr",
     "output_type": "stream",
     "text": [
      "100%|██████████| 3276/3276 [00:33<00:00, 97.50it/s] \n"
     ]
    },
    {
     "name": "stdout",
     "output_type": "stream",
     "text": [
      "Step 2/24 : e = 1, Iprime = [0, 0]\n"
     ]
    },
    {
     "name": "stderr",
     "output_type": "stream",
     "text": [
      "100%|██████████| 3276/3276 [00:26<00:00, 122.85it/s]\n"
     ]
    },
    {
     "name": "stdout",
     "output_type": "stream",
     "text": [
      "Step 3/24 : e = 2, Iprime = [0, 0]\n"
     ]
    },
    {
     "name": "stderr",
     "output_type": "stream",
     "text": [
      "100%|██████████| 3276/3276 [00:22<00:00, 143.65it/s]\n"
     ]
    },
    {
     "name": "stdout",
     "output_type": "stream",
     "text": [
      "Step 4/24 : e = 3, Iprime = [0, 0]\n"
     ]
    },
    {
     "name": "stderr",
     "output_type": "stream",
     "text": [
      "100%|██████████| 3276/3276 [00:23<00:00, 138.58it/s]\n"
     ]
    },
    {
     "name": "stdout",
     "output_type": "stream",
     "text": [
      "Step 5/24 : e = 4, Iprime = [0, 0]\n"
     ]
    },
    {
     "name": "stderr",
     "output_type": "stream",
     "text": [
      "100%|██████████| 3276/3276 [00:23<00:00, 139.82it/s]\n"
     ]
    },
    {
     "name": "stdout",
     "output_type": "stream",
     "text": [
      "Step 6/24 : e = 5, Iprime = [0, 0]\n"
     ]
    },
    {
     "name": "stderr",
     "output_type": "stream",
     "text": [
      "100%|██████████| 3276/3276 [00:15<00:00, 215.56it/s]\n"
     ]
    },
    {
     "name": "stdout",
     "output_type": "stream",
     "text": [
      "Step 7/24 : e = 0, Iprime = [1, 0]\n"
     ]
    },
    {
     "name": "stderr",
     "output_type": "stream",
     "text": [
      "100%|██████████| 3276/3276 [00:03<00:00, 924.45it/s] \n"
     ]
    },
    {
     "name": "stdout",
     "output_type": "stream",
     "text": [
      "Step 8/24 : e = 1, Iprime = [1, 0]\n"
     ]
    },
    {
     "name": "stderr",
     "output_type": "stream",
     "text": [
      "100%|██████████| 3276/3276 [00:03<00:00, 928.72it/s] \n"
     ]
    },
    {
     "name": "stdout",
     "output_type": "stream",
     "text": [
      "Step 9/24 : e = 2, Iprime = [1, 0]\n"
     ]
    },
    {
     "name": "stderr",
     "output_type": "stream",
     "text": [
      "100%|██████████| 3276/3276 [00:03<00:00, 960.05it/s] \n"
     ]
    },
    {
     "name": "stdout",
     "output_type": "stream",
     "text": [
      "Step 10/24 : e = 3, Iprime = [1, 0]\n"
     ]
    },
    {
     "name": "stderr",
     "output_type": "stream",
     "text": [
      "100%|██████████| 3276/3276 [00:03<00:00, 951.47it/s] \n"
     ]
    },
    {
     "name": "stdout",
     "output_type": "stream",
     "text": [
      "Step 11/24 : e = 4, Iprime = [1, 0]\n"
     ]
    },
    {
     "name": "stderr",
     "output_type": "stream",
     "text": [
      "100%|██████████| 3276/3276 [00:03<00:00, 1020.05it/s]\n"
     ]
    },
    {
     "name": "stdout",
     "output_type": "stream",
     "text": [
      "Step 12/24 : e = 5, Iprime = [1, 0]\n"
     ]
    },
    {
     "name": "stderr",
     "output_type": "stream",
     "text": [
      "100%|██████████| 3276/3276 [00:02<00:00, 1276.21it/s]\n"
     ]
    },
    {
     "name": "stdout",
     "output_type": "stream",
     "text": [
      "Step 13/24 : e = 0, Iprime = [0, 1]\n"
     ]
    },
    {
     "name": "stderr",
     "output_type": "stream",
     "text": [
      "100%|██████████| 3276/3276 [00:03<00:00, 840.64it/s] \n"
     ]
    },
    {
     "name": "stdout",
     "output_type": "stream",
     "text": [
      "Step 14/24 : e = 1, Iprime = [0, 1]\n"
     ]
    },
    {
     "name": "stderr",
     "output_type": "stream",
     "text": [
      "100%|██████████| 3276/3276 [00:03<00:00, 992.17it/s] \n"
     ]
    },
    {
     "name": "stdout",
     "output_type": "stream",
     "text": [
      "Step 15/24 : e = 2, Iprime = [0, 1]\n"
     ]
    },
    {
     "name": "stderr",
     "output_type": "stream",
     "text": [
      "100%|██████████| 3276/3276 [00:03<00:00, 1025.72it/s]\n"
     ]
    },
    {
     "name": "stdout",
     "output_type": "stream",
     "text": [
      "Step 16/24 : e = 3, Iprime = [0, 1]\n"
     ]
    },
    {
     "name": "stderr",
     "output_type": "stream",
     "text": [
      "100%|██████████| 3276/3276 [00:03<00:00, 1013.61it/s]\n"
     ]
    },
    {
     "name": "stdout",
     "output_type": "stream",
     "text": [
      "Step 17/24 : e = 4, Iprime = [0, 1]\n"
     ]
    },
    {
     "name": "stderr",
     "output_type": "stream",
     "text": [
      "100%|██████████| 3276/3276 [00:03<00:00, 997.35it/s] \n"
     ]
    },
    {
     "name": "stdout",
     "output_type": "stream",
     "text": [
      "Step 18/24 : e = 5, Iprime = [0, 1]\n"
     ]
    },
    {
     "name": "stderr",
     "output_type": "stream",
     "text": [
      "100%|██████████| 3276/3276 [00:02<00:00, 1135.86it/s]\n"
     ]
    },
    {
     "name": "stdout",
     "output_type": "stream",
     "text": [
      "Step 19/24 : e = 0, Iprime = [1, 1]\n"
     ]
    },
    {
     "name": "stderr",
     "output_type": "stream",
     "text": [
      "100%|██████████| 3276/3276 [00:01<00:00, 2515.19it/s]\n"
     ]
    },
    {
     "name": "stdout",
     "output_type": "stream",
     "text": [
      "Step 20/24 : e = 1, Iprime = [1, 1]\n"
     ]
    },
    {
     "name": "stderr",
     "output_type": "stream",
     "text": [
      "100%|██████████| 3276/3276 [00:01<00:00, 2261.86it/s]\n"
     ]
    },
    {
     "name": "stdout",
     "output_type": "stream",
     "text": [
      "Step 21/24 : e = 2, Iprime = [1, 1]\n"
     ]
    },
    {
     "name": "stderr",
     "output_type": "stream",
     "text": [
      "100%|██████████| 3276/3276 [00:01<00:00, 2278.99it/s]\n"
     ]
    },
    {
     "name": "stdout",
     "output_type": "stream",
     "text": [
      "Step 22/24 : e = 3, Iprime = [1, 1]\n"
     ]
    },
    {
     "name": "stderr",
     "output_type": "stream",
     "text": [
      "100%|██████████| 3276/3276 [00:01<00:00, 2260.76it/s]\n"
     ]
    },
    {
     "name": "stdout",
     "output_type": "stream",
     "text": [
      "Step 23/24 : e = 4, Iprime = [1, 1]\n"
     ]
    },
    {
     "name": "stderr",
     "output_type": "stream",
     "text": [
      "100%|██████████| 3276/3276 [00:01<00:00, 2200.22it/s]\n"
     ]
    },
    {
     "name": "stdout",
     "output_type": "stream",
     "text": [
      "Step 24/24 : e = 5, Iprime = [1, 1]\n"
     ]
    },
    {
     "name": "stderr",
     "output_type": "stream",
     "text": [
      "100%|██████████| 3276/3276 [00:01<00:00, 1829.53it/s]\n"
     ]
    },
    {
     "name": "stdout",
     "output_type": "stream",
     "text": [
      "Results saved in g3p691_0.txt\n",
      "Results saved in g3p691_1.txt\n",
      "Results saved in g3p691_2.txt\n",
      "Results saved in g3p691_3.txt\n",
      "Results saved in g3p691_4.txt\n",
      "Results saved in g3p691_5.txt\n"
     ]
    }
   ],
   "source": [
    "p_values = [11,31,691]\n",
    "for p in p_values:\n",
    "    X_p = SiegelVariety(g = 3, p = p)\n",
    "    i = 2\n",
    "    while i>0:\n",
    "        X_p.computeAll(-25,0)\n",
    "        i -= 1\n",
    "    X_p.save()"
   ]
  },
  {
   "cell_type": "markdown",
   "metadata": {},
   "source": [
    "We compute and save some $\\text{Sp}_{2g}$ p-small weights for different values of $p$ when $g = 2$ "
   ]
  },
  {
   "cell_type": "code",
   "execution_count": 21,
   "metadata": {},
   "outputs": [
    {
     "name": "stdout",
     "output_type": "stream",
     "text": [
      "p-small weights saved in g2p5_psmall.txt\n",
      "[(0, 0)]\n",
      "p-small weights saved in g2p7_psmall.txt\n",
      "[(0, 0), (0, -1), (-1, -1)]\n",
      "p-small weights saved in g2p11_psmall.txt\n",
      "[(0, 0), (0, -1), (0, -2), (0, -3), (-1, -1), (-1, -2), (-1, -3), (-2, -2), (-2, -3), (-3, -3)]\n",
      "p-small weights saved in g2p31_psmall.txt\n",
      "[(0, 0), (0, -1), (0, -2), (0, -3), (0, -4), (0, -5), (0, -6), (0, -7), (0, -8), (0, -9), (0, -10), (0, -11), (0, -12), (0, -13), (-1, -1), (-1, -2), (-1, -3), (-1, -4), (-1, -5), (-1, -6), (-1, -7), (-1, -8), (-1, -9), (-1, -10), (-1, -11), (-1, -12), (-1, -13), (-2, -2), (-2, -3), (-2, -4), (-2, -5), (-2, -6), (-2, -7), (-2, -8), (-2, -9), (-2, -10), (-2, -11), (-2, -12), (-2, -13), (-3, -3), (-3, -4), (-3, -5), (-3, -6), (-3, -7), (-3, -8), (-3, -9), (-3, -10), (-3, -11), (-3, -12), (-3, -13), (-4, -4), (-4, -5), (-4, -6), (-4, -7), (-4, -8), (-4, -9), (-4, -10), (-4, -11), (-4, -12), (-4, -13), (-5, -5), (-5, -6), (-5, -7), (-5, -8), (-5, -9), (-5, -10), (-5, -11), (-5, -12), (-5, -13), (-6, -6), (-6, -7), (-6, -8), (-6, -9), (-6, -10), (-6, -11), (-6, -12), (-6, -13), (-7, -7), (-7, -8), (-7, -9), (-7, -10), (-7, -11), (-7, -12), (-7, -13), (-8, -8), (-8, -9), (-8, -10), (-8, -11), (-8, -12), (-8, -13), (-9, -9), (-9, -10), (-9, -11), (-9, -12), (-9, -13), (-10, -10), (-10, -11), (-10, -12), (-10, -13), (-11, -11), (-11, -12), (-11, -13), (-12, -12), (-12, -13), (-13, -13)]\n"
     ]
    }
   ],
   "source": [
    "p_values = [5,7,11,31]\n",
    "for p in p_values:\n",
    "    X_p = SiegelVariety(g = 2, p = p)\n",
    "    X_p.psmall(6*p)"
   ]
  },
  {
   "cell_type": "markdown",
   "metadata": {},
   "source": [
    "# Plotting tools"
   ]
  },
  {
   "cell_type": "code",
   "execution_count": null,
   "metadata": {},
   "outputs": [],
   "source": [
    "#Plot our results when g = 2 or g = 3\n",
    "def plot(variety):\n",
    "    colors = ['k','b','r','g','c']\n",
    "    if variety.g == 2:\n",
    "        res = variety.convert()\n",
    "        plt.clf()\n",
    "        fig = plt.figure(figsize=(12,6))\n",
    "        for k in range(variety.d):\n",
    "            if len(res[k]) != 0:\n",
    "                x, y = zip(*res[k])\n",
    "                plt.scatter(x,y, label='Concentrated in degrees [0 : ' + str(k) + ']' , color = colors[k%len(colors)])  \n",
    "        plt.title('Vanishing results for Siegel threefold with p = ' + str(variety.p))\n",
    "        plt.legend()\n",
    "        plt.show()\n",
    "    elif variety.g == 3:\n",
    "        res = variety.convert()\n",
    "        plt.clf()\n",
    "        fig = plt.figure(figsize=(25,15))\n",
    "        ax = plt.axes(projection='3d')\n",
    "        for k in range(variety.d):\n",
    "            if len(res[k]) != 0:\n",
    "                x, y, z = zip(*res[k])\n",
    "                ax.scatter3D(x,y,z, label='Concentrated in degrees [0 : ' + str(k) + ']' , color =  colors[k%len(colors)])  \n",
    "        plt.title('Vanishing results for Siegel variety of genus 3 with p = ' + str(variety.p))\n",
    "        plt.legend()\n",
    "        plt.show() \n",
    "    else:\n",
    "        print('The genus must be 2 or 3')"
   ]
  },
  {
   "cell_type": "code",
   "execution_count": 14,
   "metadata": {},
   "outputs": [
    {
     "name": "stdout",
     "output_type": "stream",
     "text": [
      "Results loaded from g2p11_0.txt\n",
      "Results loaded from g2p11_1.txt\n",
      "Results loaded from g2p11_2.txt\n"
     ]
    },
    {
     "data": {
      "text/plain": [
       "<Figure size 432x288 with 0 Axes>"
      ]
     },
     "metadata": {},
     "output_type": "display_data"
    },
    {
     "data": {
      "image/png": "[encoded data removed]",
      "text/plain": [
       "<Figure size 864x432 with 1 Axes>"
      ]
     },
     "metadata": {
      "needs_background": "light"
     },
     "output_type": "display_data"
    }
   ],
   "source": [
    "X = SiegelVariety(g = 2, p = 11)\n",
    "X.load()\n",
    "plot(X)"
   ]
  },
  {
   "cell_type": "code",
   "execution_count": 15,
   "metadata": {},
   "outputs": [
    {
     "name": "stdout",
     "output_type": "stream",
     "text": [
      "Results loaded from g3p11_0.txt\n",
      "Results loaded from g3p11_1.txt\n",
      "Results loaded from g3p11_2.txt\n",
      "Results loaded from g3p11_3.txt\n",
      "Results loaded from g3p11_4.txt\n",
      "Results loaded from g3p11_5.txt\n"
     ]
    },
    {
     "data": {
      "text/plain": [
       "<Figure size 432x288 with 0 Axes>"
      ]
     },
     "metadata": {},
     "output_type": "display_data"
    },
    {
     "data": {
      "image/png": "[encoded data removed]",
      "text/plain": [
       "<Figure size 1800x1080 with 1 Axes>"
      ]
     },
     "metadata": {
      "needs_background": "light"
     },
     "output_type": "display_data"
    }
   ],
   "source": [
    "Y = SiegelVariety(g = 3, p = 11)\n",
    "Y.load()\n",
    "plot(Y)"
   ]
  },
  {
   "cell_type": "code",
   "execution_count": null,
   "metadata": {},
   "outputs": [],
   "source": []
  }
 ],
 "metadata": {
  "kernelspec": {
   "display_name": "SageMath 9.2",
   "language": "sage",
   "name": "sagemath"
  },
  "language_info": {
   "codemirror_mode": {
    "name": "ipython",
    "version": 3
   },
   "file_extension": ".py",
   "mimetype": "text/x-python",
   "name": "python",
   "nbconvert_exporter": "python",
   "pygments_lexer": "ipython3",
   "version": "3.8.10"
  }
 },
 "nbformat": 4,
 "nbformat_minor": 2
}
